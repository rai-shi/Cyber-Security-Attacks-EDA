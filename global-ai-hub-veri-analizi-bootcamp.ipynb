{
 "cells": [
  {
   "cell_type": "markdown",
   "id": "72f432d8",
   "metadata": {
    "papermill": {
     "duration": 0.007896,
     "end_time": "2024-11-24T14:05:24.924715",
     "exception": false,
     "start_time": "2024-11-24T14:05:24.916819",
     "status": "completed"
    },
    "tags": []
   },
   "source": [
    "\n",
    "<style>\n",
    "/*\n",
    ".title {\n",
    "    font-family: Arial, sans-serif;\n",
    "    font-size: 24px;\n",
    "    color: #2E86C1;\n",
    "    text-align: center;\n",
    "}    \n",
    "*/\n",
    ".paragraph {\n",
    "    font-family: Georgia, serif;\n",
    "    font-size: 16px;\n",
    "    color: #e8df3c;\n",
    "    line-height: 1.5;\n",
    "}\n",
    "</style>"
   ]
  },
  {
   "cell_type": "markdown",
   "id": "4968974e",
   "metadata": {
    "papermill": {
     "duration": 0.006546,
     "end_time": "2024-11-24T14:05:24.938863",
     "exception": false,
     "start_time": "2024-11-24T14:05:24.932317",
     "status": "completed"
    },
    "tags": []
   },
   "source": [
    "# Importing Requiered Libraries"
   ]
  },
  {
   "cell_type": "code",
   "execution_count": 1,
   "id": "8733d080",
   "metadata": {
    "_cell_guid": "b1076dfc-b9ad-4769-8c92-a6c4dae69d19",
    "_uuid": "8f2839f25d086af736a60e9eeb907d3b93b6e0e5",
    "execution": {
     "iopub.execute_input": "2024-11-24T14:05:24.954422Z",
     "iopub.status.busy": "2024-11-24T14:05:24.954017Z",
     "iopub.status.idle": "2024-11-24T14:05:27.196922Z",
     "shell.execute_reply": "2024-11-24T14:05:27.195916Z"
    },
    "papermill": {
     "duration": 2.253744,
     "end_time": "2024-11-24T14:05:27.199468",
     "exception": false,
     "start_time": "2024-11-24T14:05:24.945724",
     "status": "completed"
    },
    "tags": []
   },
   "outputs": [
    {
     "name": "stdout",
     "output_type": "stream",
     "text": [
      "/kaggle/input/cyber-security-attacks/README.md\n",
      "/kaggle/input/cyber-security-attacks/cybersecurity_attacks.csv\n"
     ]
    }
   ],
   "source": [
    "# This Python 3 environment comes with many helpful analytics libraries installed\n",
    "# It is defined by the kaggle/python Docker image: https://github.com/kaggle/docker-python\n",
    "# For example, here's several helpful packages to load\n",
    "\n",
    "import numpy as np # linear algebra\n",
    "import pandas as pd # data processing, CSV file I/O (e.g. pd.read_csv)\n",
    "import random\n",
    "import matplotlib.pyplot as plt\n",
    "from sklearn.preprocessing import LabelEncoder\n",
    "\n",
    "# Input data files are available in the read-only \"../input/\" directory\n",
    "# For example, running this (by clicking run or pressing Shift+Enter) will list all files under the input directory\n",
    "\n",
    "import os\n",
    "for dirname, _, filenames in os.walk('/kaggle/input'):\n",
    "    for filename in filenames:\n",
    "        print(os.path.join(dirname, filename))\n",
    "\n",
    "# You can write up to 20GB to the current directory (/kaggle/working/) that gets preserved as output when you create a version using \"Save & Run All\" \n",
    "# You can also write temporary files to /kaggle/temp/, but they won't be saved outside of the current session"
   ]
  },
  {
   "cell_type": "markdown",
   "id": "d191d55d",
   "metadata": {
    "papermill": {
     "duration": 0.006686,
     "end_time": "2024-11-24T14:05:27.214182",
     "exception": false,
     "start_time": "2024-11-24T14:05:27.207496",
     "status": "completed"
    },
    "tags": []
   },
   "source": [
    "# Data Interpretation and Review"
   ]
  },
  {
   "cell_type": "code",
   "execution_count": 2,
   "id": "1a701ba2",
   "metadata": {
    "execution": {
     "iopub.execute_input": "2024-11-24T14:05:27.230415Z",
     "iopub.status.busy": "2024-11-24T14:05:27.229485Z",
     "iopub.status.idle": "2024-11-24T14:05:27.974289Z",
     "shell.execute_reply": "2024-11-24T14:05:27.973111Z"
    },
    "papermill": {
     "duration": 0.755626,
     "end_time": "2024-11-24T14:05:27.976883",
     "exception": false,
     "start_time": "2024-11-24T14:05:27.221257",
     "status": "completed"
    },
    "tags": []
   },
   "outputs": [],
   "source": [
    "data = pd.read_csv(\"/kaggle/input/cyber-security-attacks/cybersecurity_attacks.csv\")"
   ]
  },
  {
   "cell_type": "code",
   "execution_count": 3,
   "id": "d2694798",
   "metadata": {
    "execution": {
     "iopub.execute_input": "2024-11-24T14:05:27.993692Z",
     "iopub.status.busy": "2024-11-24T14:05:27.992806Z",
     "iopub.status.idle": "2024-11-24T14:05:28.064216Z",
     "shell.execute_reply": "2024-11-24T14:05:28.063072Z"
    },
    "papermill": {
     "duration": 0.082223,
     "end_time": "2024-11-24T14:05:28.066676",
     "exception": false,
     "start_time": "2024-11-24T14:05:27.984453",
     "status": "completed"
    },
    "tags": []
   },
   "outputs": [
    {
     "name": "stdout",
     "output_type": "stream",
     "text": [
      "<class 'pandas.core.frame.DataFrame'>\n",
      "RangeIndex: 40000 entries, 0 to 39999\n",
      "Data columns (total 25 columns):\n",
      " #   Column                  Non-Null Count  Dtype  \n",
      "---  ------                  --------------  -----  \n",
      " 0   Timestamp               40000 non-null  object \n",
      " 1   Source IP Address       40000 non-null  object \n",
      " 2   Destination IP Address  40000 non-null  object \n",
      " 3   Source Port             40000 non-null  int64  \n",
      " 4   Destination Port        40000 non-null  int64  \n",
      " 5   Protocol                40000 non-null  object \n",
      " 6   Packet Length           40000 non-null  int64  \n",
      " 7   Packet Type             40000 non-null  object \n",
      " 8   Traffic Type            40000 non-null  object \n",
      " 9   Payload Data            40000 non-null  object \n",
      " 10  Malware Indicators      20000 non-null  object \n",
      " 11  Anomaly Scores          40000 non-null  float64\n",
      " 12  Alerts/Warnings         19933 non-null  object \n",
      " 13  Attack Type             40000 non-null  object \n",
      " 14  Attack Signature        40000 non-null  object \n",
      " 15  Action Taken            40000 non-null  object \n",
      " 16  Severity Level          40000 non-null  object \n",
      " 17  User Information        40000 non-null  object \n",
      " 18  Device Information      40000 non-null  object \n",
      " 19  Network Segment         40000 non-null  object \n",
      " 20  Geo-location Data       40000 non-null  object \n",
      " 21  Proxy Information       20149 non-null  object \n",
      " 22  Firewall Logs           20039 non-null  object \n",
      " 23  IDS/IPS Alerts          19950 non-null  object \n",
      " 24  Log Source              40000 non-null  object \n",
      "dtypes: float64(1), int64(3), object(21)\n",
      "memory usage: 7.6+ MB\n"
     ]
    }
   ],
   "source": [
    "data.info()"
   ]
  },
  {
   "cell_type": "code",
   "execution_count": 4,
   "id": "705fe14c",
   "metadata": {
    "execution": {
     "iopub.execute_input": "2024-11-24T14:05:28.083596Z",
     "iopub.status.busy": "2024-11-24T14:05:28.082820Z",
     "iopub.status.idle": "2024-11-24T14:05:28.108449Z",
     "shell.execute_reply": "2024-11-24T14:05:28.107355Z"
    },
    "papermill": {
     "duration": 0.03624,
     "end_time": "2024-11-24T14:05:28.110568",
     "exception": false,
     "start_time": "2024-11-24T14:05:28.074328",
     "status": "completed"
    },
    "tags": []
   },
   "outputs": [
    {
     "data": {
      "text/html": [
       "<div>\n",
       "<style scoped>\n",
       "    .dataframe tbody tr th:only-of-type {\n",
       "        vertical-align: middle;\n",
       "    }\n",
       "\n",
       "    .dataframe tbody tr th {\n",
       "        vertical-align: top;\n",
       "    }\n",
       "\n",
       "    .dataframe thead th {\n",
       "        text-align: right;\n",
       "    }\n",
       "</style>\n",
       "<table border=\"1\" class=\"dataframe\">\n",
       "  <thead>\n",
       "    <tr style=\"text-align: right;\">\n",
       "      <th></th>\n",
       "      <th>Timestamp</th>\n",
       "      <th>Source IP Address</th>\n",
       "      <th>Destination IP Address</th>\n",
       "      <th>Source Port</th>\n",
       "      <th>Destination Port</th>\n",
       "      <th>Protocol</th>\n",
       "      <th>Packet Length</th>\n",
       "      <th>Packet Type</th>\n",
       "      <th>Traffic Type</th>\n",
       "      <th>Payload Data</th>\n",
       "      <th>...</th>\n",
       "      <th>Action Taken</th>\n",
       "      <th>Severity Level</th>\n",
       "      <th>User Information</th>\n",
       "      <th>Device Information</th>\n",
       "      <th>Network Segment</th>\n",
       "      <th>Geo-location Data</th>\n",
       "      <th>Proxy Information</th>\n",
       "      <th>Firewall Logs</th>\n",
       "      <th>IDS/IPS Alerts</th>\n",
       "      <th>Log Source</th>\n",
       "    </tr>\n",
       "  </thead>\n",
       "  <tbody>\n",
       "    <tr>\n",
       "      <th>0</th>\n",
       "      <td>2023-05-30 06:33:58</td>\n",
       "      <td>103.216.15.12</td>\n",
       "      <td>84.9.164.252</td>\n",
       "      <td>31225</td>\n",
       "      <td>17616</td>\n",
       "      <td>ICMP</td>\n",
       "      <td>503</td>\n",
       "      <td>Data</td>\n",
       "      <td>HTTP</td>\n",
       "      <td>Qui natus odio asperiores nam. Optio nobis ius...</td>\n",
       "      <td>...</td>\n",
       "      <td>Logged</td>\n",
       "      <td>Low</td>\n",
       "      <td>Reyansh Dugal</td>\n",
       "      <td>Mozilla/5.0 (compatible; MSIE 8.0; Windows NT ...</td>\n",
       "      <td>Segment A</td>\n",
       "      <td>Jamshedpur, Sikkim</td>\n",
       "      <td>150.9.97.135</td>\n",
       "      <td>Log Data</td>\n",
       "      <td>NaN</td>\n",
       "      <td>Server</td>\n",
       "    </tr>\n",
       "    <tr>\n",
       "      <th>1</th>\n",
       "      <td>2020-08-26 07:08:30</td>\n",
       "      <td>78.199.217.198</td>\n",
       "      <td>66.191.137.154</td>\n",
       "      <td>17245</td>\n",
       "      <td>48166</td>\n",
       "      <td>ICMP</td>\n",
       "      <td>1174</td>\n",
       "      <td>Data</td>\n",
       "      <td>HTTP</td>\n",
       "      <td>Aperiam quos modi officiis veritatis rem. Omni...</td>\n",
       "      <td>...</td>\n",
       "      <td>Blocked</td>\n",
       "      <td>Low</td>\n",
       "      <td>Sumer Rana</td>\n",
       "      <td>Mozilla/5.0 (compatible; MSIE 8.0; Windows NT ...</td>\n",
       "      <td>Segment B</td>\n",
       "      <td>Bilaspur, Nagaland</td>\n",
       "      <td>NaN</td>\n",
       "      <td>Log Data</td>\n",
       "      <td>NaN</td>\n",
       "      <td>Firewall</td>\n",
       "    </tr>\n",
       "    <tr>\n",
       "      <th>2</th>\n",
       "      <td>2022-11-13 08:23:25</td>\n",
       "      <td>63.79.210.48</td>\n",
       "      <td>198.219.82.17</td>\n",
       "      <td>16811</td>\n",
       "      <td>53600</td>\n",
       "      <td>UDP</td>\n",
       "      <td>306</td>\n",
       "      <td>Control</td>\n",
       "      <td>HTTP</td>\n",
       "      <td>Perferendis sapiente vitae soluta. Hic delectu...</td>\n",
       "      <td>...</td>\n",
       "      <td>Ignored</td>\n",
       "      <td>Low</td>\n",
       "      <td>Himmat Karpe</td>\n",
       "      <td>Mozilla/5.0 (compatible; MSIE 9.0; Windows NT ...</td>\n",
       "      <td>Segment C</td>\n",
       "      <td>Bokaro, Rajasthan</td>\n",
       "      <td>114.133.48.179</td>\n",
       "      <td>Log Data</td>\n",
       "      <td>Alert Data</td>\n",
       "      <td>Firewall</td>\n",
       "    </tr>\n",
       "    <tr>\n",
       "      <th>3</th>\n",
       "      <td>2023-07-02 10:38:46</td>\n",
       "      <td>163.42.196.10</td>\n",
       "      <td>101.228.192.255</td>\n",
       "      <td>20018</td>\n",
       "      <td>32534</td>\n",
       "      <td>UDP</td>\n",
       "      <td>385</td>\n",
       "      <td>Data</td>\n",
       "      <td>HTTP</td>\n",
       "      <td>Totam maxime beatae expedita explicabo porro l...</td>\n",
       "      <td>...</td>\n",
       "      <td>Blocked</td>\n",
       "      <td>Medium</td>\n",
       "      <td>Fateh Kibe</td>\n",
       "      <td>Mozilla/5.0 (Macintosh; PPC Mac OS X 10_11_5; ...</td>\n",
       "      <td>Segment B</td>\n",
       "      <td>Jaunpur, Rajasthan</td>\n",
       "      <td>NaN</td>\n",
       "      <td>NaN</td>\n",
       "      <td>Alert Data</td>\n",
       "      <td>Firewall</td>\n",
       "    </tr>\n",
       "    <tr>\n",
       "      <th>4</th>\n",
       "      <td>2023-07-16 13:11:07</td>\n",
       "      <td>71.166.185.76</td>\n",
       "      <td>189.243.174.238</td>\n",
       "      <td>6131</td>\n",
       "      <td>26646</td>\n",
       "      <td>TCP</td>\n",
       "      <td>1462</td>\n",
       "      <td>Data</td>\n",
       "      <td>DNS</td>\n",
       "      <td>Odit nesciunt dolorem nisi iste iusto. Animi v...</td>\n",
       "      <td>...</td>\n",
       "      <td>Blocked</td>\n",
       "      <td>Low</td>\n",
       "      <td>Dhanush Chad</td>\n",
       "      <td>Mozilla/5.0 (compatible; MSIE 5.0; Windows NT ...</td>\n",
       "      <td>Segment C</td>\n",
       "      <td>Anantapur, Tripura</td>\n",
       "      <td>149.6.110.119</td>\n",
       "      <td>NaN</td>\n",
       "      <td>Alert Data</td>\n",
       "      <td>Firewall</td>\n",
       "    </tr>\n",
       "  </tbody>\n",
       "</table>\n",
       "<p>5 rows × 25 columns</p>\n",
       "</div>"
      ],
      "text/plain": [
       "             Timestamp Source IP Address Destination IP Address  Source Port  \\\n",
       "0  2023-05-30 06:33:58     103.216.15.12           84.9.164.252        31225   \n",
       "1  2020-08-26 07:08:30    78.199.217.198         66.191.137.154        17245   \n",
       "2  2022-11-13 08:23:25      63.79.210.48          198.219.82.17        16811   \n",
       "3  2023-07-02 10:38:46     163.42.196.10        101.228.192.255        20018   \n",
       "4  2023-07-16 13:11:07     71.166.185.76        189.243.174.238         6131   \n",
       "\n",
       "   Destination Port Protocol  Packet Length Packet Type Traffic Type  \\\n",
       "0             17616     ICMP            503        Data         HTTP   \n",
       "1             48166     ICMP           1174        Data         HTTP   \n",
       "2             53600      UDP            306     Control         HTTP   \n",
       "3             32534      UDP            385        Data         HTTP   \n",
       "4             26646      TCP           1462        Data          DNS   \n",
       "\n",
       "                                        Payload Data  ... Action Taken  \\\n",
       "0  Qui natus odio asperiores nam. Optio nobis ius...  ...       Logged   \n",
       "1  Aperiam quos modi officiis veritatis rem. Omni...  ...      Blocked   \n",
       "2  Perferendis sapiente vitae soluta. Hic delectu...  ...      Ignored   \n",
       "3  Totam maxime beatae expedita explicabo porro l...  ...      Blocked   \n",
       "4  Odit nesciunt dolorem nisi iste iusto. Animi v...  ...      Blocked   \n",
       "\n",
       "   Severity Level User Information  \\\n",
       "0             Low    Reyansh Dugal   \n",
       "1             Low       Sumer Rana   \n",
       "2             Low     Himmat Karpe   \n",
       "3          Medium       Fateh Kibe   \n",
       "4             Low     Dhanush Chad   \n",
       "\n",
       "                                  Device Information Network Segment  \\\n",
       "0  Mozilla/5.0 (compatible; MSIE 8.0; Windows NT ...       Segment A   \n",
       "1  Mozilla/5.0 (compatible; MSIE 8.0; Windows NT ...       Segment B   \n",
       "2  Mozilla/5.0 (compatible; MSIE 9.0; Windows NT ...       Segment C   \n",
       "3  Mozilla/5.0 (Macintosh; PPC Mac OS X 10_11_5; ...       Segment B   \n",
       "4  Mozilla/5.0 (compatible; MSIE 5.0; Windows NT ...       Segment C   \n",
       "\n",
       "    Geo-location Data Proxy Information Firewall Logs IDS/IPS Alerts  \\\n",
       "0  Jamshedpur, Sikkim      150.9.97.135      Log Data            NaN   \n",
       "1  Bilaspur, Nagaland               NaN      Log Data            NaN   \n",
       "2   Bokaro, Rajasthan    114.133.48.179      Log Data     Alert Data   \n",
       "3  Jaunpur, Rajasthan               NaN           NaN     Alert Data   \n",
       "4  Anantapur, Tripura     149.6.110.119           NaN     Alert Data   \n",
       "\n",
       "  Log Source  \n",
       "0     Server  \n",
       "1   Firewall  \n",
       "2   Firewall  \n",
       "3   Firewall  \n",
       "4   Firewall  \n",
       "\n",
       "[5 rows x 25 columns]"
      ]
     },
     "execution_count": 4,
     "metadata": {},
     "output_type": "execute_result"
    }
   ],
   "source": [
    "data.head()"
   ]
  },
  {
   "cell_type": "code",
   "execution_count": 5,
   "id": "7c4ed2a7",
   "metadata": {
    "execution": {
     "iopub.execute_input": "2024-11-24T14:05:28.127806Z",
     "iopub.status.busy": "2024-11-24T14:05:28.127064Z",
     "iopub.status.idle": "2024-11-24T14:05:28.146511Z",
     "shell.execute_reply": "2024-11-24T14:05:28.145441Z"
    },
    "papermill": {
     "duration": 0.030453,
     "end_time": "2024-11-24T14:05:28.148729",
     "exception": false,
     "start_time": "2024-11-24T14:05:28.118276",
     "status": "completed"
    },
    "tags": []
   },
   "outputs": [
    {
     "data": {
      "text/html": [
       "<div>\n",
       "<style scoped>\n",
       "    .dataframe tbody tr th:only-of-type {\n",
       "        vertical-align: middle;\n",
       "    }\n",
       "\n",
       "    .dataframe tbody tr th {\n",
       "        vertical-align: top;\n",
       "    }\n",
       "\n",
       "    .dataframe thead th {\n",
       "        text-align: right;\n",
       "    }\n",
       "</style>\n",
       "<table border=\"1\" class=\"dataframe\">\n",
       "  <thead>\n",
       "    <tr style=\"text-align: right;\">\n",
       "      <th></th>\n",
       "      <th>Timestamp</th>\n",
       "      <th>Source IP Address</th>\n",
       "      <th>Destination IP Address</th>\n",
       "      <th>Source Port</th>\n",
       "      <th>Destination Port</th>\n",
       "      <th>Protocol</th>\n",
       "      <th>Packet Length</th>\n",
       "      <th>Packet Type</th>\n",
       "      <th>Traffic Type</th>\n",
       "      <th>Payload Data</th>\n",
       "      <th>...</th>\n",
       "      <th>Action Taken</th>\n",
       "      <th>Severity Level</th>\n",
       "      <th>User Information</th>\n",
       "      <th>Device Information</th>\n",
       "      <th>Network Segment</th>\n",
       "      <th>Geo-location Data</th>\n",
       "      <th>Proxy Information</th>\n",
       "      <th>Firewall Logs</th>\n",
       "      <th>IDS/IPS Alerts</th>\n",
       "      <th>Log Source</th>\n",
       "    </tr>\n",
       "  </thead>\n",
       "  <tbody>\n",
       "    <tr>\n",
       "      <th>39995</th>\n",
       "      <td>2023-05-26 14:08:42</td>\n",
       "      <td>26.36.109.26</td>\n",
       "      <td>121.100.75.240</td>\n",
       "      <td>31005</td>\n",
       "      <td>6764</td>\n",
       "      <td>UDP</td>\n",
       "      <td>1428</td>\n",
       "      <td>Control</td>\n",
       "      <td>HTTP</td>\n",
       "      <td>Quibusdam ullam consequatur consequuntur accus...</td>\n",
       "      <td>...</td>\n",
       "      <td>Logged</td>\n",
       "      <td>Medium</td>\n",
       "      <td>Adira Madan</td>\n",
       "      <td>Mozilla/5.0 (iPad; CPU iPad OS 14_2_1 like Mac...</td>\n",
       "      <td>Segment A</td>\n",
       "      <td>Nashik, Manipur</td>\n",
       "      <td>NaN</td>\n",
       "      <td>Log Data</td>\n",
       "      <td>Alert Data</td>\n",
       "      <td>Firewall</td>\n",
       "    </tr>\n",
       "    <tr>\n",
       "      <th>39996</th>\n",
       "      <td>2023-03-27 00:38:27</td>\n",
       "      <td>17.21.163.81</td>\n",
       "      <td>196.108.134.78</td>\n",
       "      <td>2553</td>\n",
       "      <td>28091</td>\n",
       "      <td>UDP</td>\n",
       "      <td>1184</td>\n",
       "      <td>Control</td>\n",
       "      <td>HTTP</td>\n",
       "      <td>Quaerat neque esse. Animi expedita natus commo...</td>\n",
       "      <td>...</td>\n",
       "      <td>Logged</td>\n",
       "      <td>High</td>\n",
       "      <td>Rati Dara</td>\n",
       "      <td>Mozilla/5.0 (Windows; U; Windows 98; Win 9x 4....</td>\n",
       "      <td>Segment C</td>\n",
       "      <td>Vadodara, Mizoram</td>\n",
       "      <td>60.51.30.46</td>\n",
       "      <td>Log Data</td>\n",
       "      <td>NaN</td>\n",
       "      <td>Firewall</td>\n",
       "    </tr>\n",
       "    <tr>\n",
       "      <th>39997</th>\n",
       "      <td>2022-03-31 01:45:49</td>\n",
       "      <td>162.35.217.57</td>\n",
       "      <td>98.107.0.15</td>\n",
       "      <td>22505</td>\n",
       "      <td>25152</td>\n",
       "      <td>UDP</td>\n",
       "      <td>1043</td>\n",
       "      <td>Data</td>\n",
       "      <td>DNS</td>\n",
       "      <td>Enim at aspernatur illum. Saepe numquam eligen...</td>\n",
       "      <td>...</td>\n",
       "      <td>Blocked</td>\n",
       "      <td>Low</td>\n",
       "      <td>Samiha Joshi</td>\n",
       "      <td>Mozilla/5.0 (Windows; U; Windows NT 4.0) Apple...</td>\n",
       "      <td>Segment C</td>\n",
       "      <td>Mahbubnagar, Himachal Pradesh</td>\n",
       "      <td>NaN</td>\n",
       "      <td>Log Data</td>\n",
       "      <td>Alert Data</td>\n",
       "      <td>Server</td>\n",
       "    </tr>\n",
       "    <tr>\n",
       "      <th>39998</th>\n",
       "      <td>2023-09-22 18:32:38</td>\n",
       "      <td>208.72.233.205</td>\n",
       "      <td>173.79.112.252</td>\n",
       "      <td>20013</td>\n",
       "      <td>2703</td>\n",
       "      <td>UDP</td>\n",
       "      <td>483</td>\n",
       "      <td>Data</td>\n",
       "      <td>FTP</td>\n",
       "      <td>Officiis dolorem sed harum provident earum dis...</td>\n",
       "      <td>...</td>\n",
       "      <td>Ignored</td>\n",
       "      <td>Low</td>\n",
       "      <td>Rasha Chauhan</td>\n",
       "      <td>Mozilla/5.0 (X11; Linux i686) AppleWebKit/536....</td>\n",
       "      <td>Segment B</td>\n",
       "      <td>Rourkela, Arunachal Pradesh</td>\n",
       "      <td>137.76.130.8</td>\n",
       "      <td>Log Data</td>\n",
       "      <td>NaN</td>\n",
       "      <td>Server</td>\n",
       "    </tr>\n",
       "    <tr>\n",
       "      <th>39999</th>\n",
       "      <td>2023-10-10 11:59:52</td>\n",
       "      <td>14.102.21.108</td>\n",
       "      <td>109.198.45.7</td>\n",
       "      <td>50137</td>\n",
       "      <td>55575</td>\n",
       "      <td>ICMP</td>\n",
       "      <td>1175</td>\n",
       "      <td>Control</td>\n",
       "      <td>HTTP</td>\n",
       "      <td>Eligendi omnis voluptate nihil voluptatibus do...</td>\n",
       "      <td>...</td>\n",
       "      <td>Logged</td>\n",
       "      <td>Medium</td>\n",
       "      <td>Zaina Kumar</td>\n",
       "      <td>Mozilla/5.0 (iPod; U; CPU iPhone OS 3_0 like M...</td>\n",
       "      <td>Segment A</td>\n",
       "      <td>Pudukkottai, West Bengal</td>\n",
       "      <td>112.169.115.139</td>\n",
       "      <td>Log Data</td>\n",
       "      <td>Alert Data</td>\n",
       "      <td>Firewall</td>\n",
       "    </tr>\n",
       "  </tbody>\n",
       "</table>\n",
       "<p>5 rows × 25 columns</p>\n",
       "</div>"
      ],
      "text/plain": [
       "                 Timestamp Source IP Address Destination IP Address  \\\n",
       "39995  2023-05-26 14:08:42      26.36.109.26         121.100.75.240   \n",
       "39996  2023-03-27 00:38:27      17.21.163.81         196.108.134.78   \n",
       "39997  2022-03-31 01:45:49     162.35.217.57            98.107.0.15   \n",
       "39998  2023-09-22 18:32:38    208.72.233.205         173.79.112.252   \n",
       "39999  2023-10-10 11:59:52     14.102.21.108           109.198.45.7   \n",
       "\n",
       "       Source Port  Destination Port Protocol  Packet Length Packet Type  \\\n",
       "39995        31005              6764      UDP           1428     Control   \n",
       "39996         2553             28091      UDP           1184     Control   \n",
       "39997        22505             25152      UDP           1043        Data   \n",
       "39998        20013              2703      UDP            483        Data   \n",
       "39999        50137             55575     ICMP           1175     Control   \n",
       "\n",
       "      Traffic Type                                       Payload Data  ...  \\\n",
       "39995         HTTP  Quibusdam ullam consequatur consequuntur accus...  ...   \n",
       "39996         HTTP  Quaerat neque esse. Animi expedita natus commo...  ...   \n",
       "39997          DNS  Enim at aspernatur illum. Saepe numquam eligen...  ...   \n",
       "39998          FTP  Officiis dolorem sed harum provident earum dis...  ...   \n",
       "39999         HTTP  Eligendi omnis voluptate nihil voluptatibus do...  ...   \n",
       "\n",
       "      Action Taken  Severity Level User Information  \\\n",
       "39995       Logged          Medium      Adira Madan   \n",
       "39996       Logged            High        Rati Dara   \n",
       "39997      Blocked             Low     Samiha Joshi   \n",
       "39998      Ignored             Low    Rasha Chauhan   \n",
       "39999       Logged          Medium      Zaina Kumar   \n",
       "\n",
       "                                      Device Information Network Segment  \\\n",
       "39995  Mozilla/5.0 (iPad; CPU iPad OS 14_2_1 like Mac...       Segment A   \n",
       "39996  Mozilla/5.0 (Windows; U; Windows 98; Win 9x 4....       Segment C   \n",
       "39997  Mozilla/5.0 (Windows; U; Windows NT 4.0) Apple...       Segment C   \n",
       "39998  Mozilla/5.0 (X11; Linux i686) AppleWebKit/536....       Segment B   \n",
       "39999  Mozilla/5.0 (iPod; U; CPU iPhone OS 3_0 like M...       Segment A   \n",
       "\n",
       "                   Geo-location Data Proxy Information Firewall Logs  \\\n",
       "39995                Nashik, Manipur               NaN      Log Data   \n",
       "39996              Vadodara, Mizoram       60.51.30.46      Log Data   \n",
       "39997  Mahbubnagar, Himachal Pradesh               NaN      Log Data   \n",
       "39998    Rourkela, Arunachal Pradesh      137.76.130.8      Log Data   \n",
       "39999       Pudukkottai, West Bengal   112.169.115.139      Log Data   \n",
       "\n",
       "      IDS/IPS Alerts Log Source  \n",
       "39995     Alert Data   Firewall  \n",
       "39996            NaN   Firewall  \n",
       "39997     Alert Data     Server  \n",
       "39998            NaN     Server  \n",
       "39999     Alert Data   Firewall  \n",
       "\n",
       "[5 rows x 25 columns]"
      ]
     },
     "execution_count": 5,
     "metadata": {},
     "output_type": "execute_result"
    }
   ],
   "source": [
    "data.tail()"
   ]
  },
  {
   "cell_type": "code",
   "execution_count": 6,
   "id": "cc199a73",
   "metadata": {
    "execution": {
     "iopub.execute_input": "2024-11-24T14:05:28.166465Z",
     "iopub.status.busy": "2024-11-24T14:05:28.166099Z",
     "iopub.status.idle": "2024-11-24T14:05:28.172788Z",
     "shell.execute_reply": "2024-11-24T14:05:28.171719Z"
    },
    "papermill": {
     "duration": 0.018067,
     "end_time": "2024-11-24T14:05:28.174796",
     "exception": false,
     "start_time": "2024-11-24T14:05:28.156729",
     "status": "completed"
    },
    "tags": []
   },
   "outputs": [
    {
     "data": {
      "text/plain": [
       "(40000, 25)"
      ]
     },
     "execution_count": 6,
     "metadata": {},
     "output_type": "execute_result"
    }
   ],
   "source": [
    "data.shape"
   ]
  },
  {
   "cell_type": "code",
   "execution_count": 7,
   "id": "d8fd2998",
   "metadata": {
    "execution": {
     "iopub.execute_input": "2024-11-24T14:05:28.192794Z",
     "iopub.status.busy": "2024-11-24T14:05:28.192015Z",
     "iopub.status.idle": "2024-11-24T14:05:28.242629Z",
     "shell.execute_reply": "2024-11-24T14:05:28.241565Z"
    },
    "papermill": {
     "duration": 0.061685,
     "end_time": "2024-11-24T14:05:28.244568",
     "exception": false,
     "start_time": "2024-11-24T14:05:28.182883",
     "status": "completed"
    },
    "tags": []
   },
   "outputs": [
    {
     "name": "stdout",
     "output_type": "stream",
     "text": [
      "there are 40000 data in the dataset.\n"
     ]
    },
    {
     "data": {
      "text/plain": [
       "Timestamp                     0\n",
       "Source IP Address             0\n",
       "Destination IP Address        0\n",
       "Source Port                   0\n",
       "Destination Port              0\n",
       "Protocol                      0\n",
       "Packet Length                 0\n",
       "Packet Type                   0\n",
       "Traffic Type                  0\n",
       "Payload Data                  0\n",
       "Malware Indicators        20000\n",
       "Anomaly Scores                0\n",
       "Alerts/Warnings           20067\n",
       "Attack Type                   0\n",
       "Attack Signature              0\n",
       "Action Taken                  0\n",
       "Severity Level                0\n",
       "User Information              0\n",
       "Device Information            0\n",
       "Network Segment               0\n",
       "Geo-location Data             0\n",
       "Proxy Information         19851\n",
       "Firewall Logs             19961\n",
       "IDS/IPS Alerts            20050\n",
       "Log Source                    0\n",
       "dtype: int64"
      ]
     },
     "execution_count": 7,
     "metadata": {},
     "output_type": "execute_result"
    }
   ],
   "source": [
    "print(f\"there are {data.shape[0]} data in the dataset.\")\n",
    "data.isnull().sum()"
   ]
  },
  {
   "cell_type": "markdown",
   "id": "de23d7e2",
   "metadata": {
    "papermill": {
     "duration": 0.007818,
     "end_time": "2024-11-24T14:05:28.260558",
     "exception": false,
     "start_time": "2024-11-24T14:05:28.252740",
     "status": "completed"
    },
    "tags": []
   },
   "source": [
    "<p style=\"color:#fcba03; font-size:18px\" >we already have some null data</p>"
   ]
  },
  {
   "cell_type": "code",
   "execution_count": 8,
   "id": "ed68810b",
   "metadata": {
    "execution": {
     "iopub.execute_input": "2024-11-24T14:05:28.278742Z",
     "iopub.status.busy": "2024-11-24T14:05:28.278386Z",
     "iopub.status.idle": "2024-11-24T14:05:28.396051Z",
     "shell.execute_reply": "2024-11-24T14:05:28.394878Z"
    },
    "papermill": {
     "duration": 0.129847,
     "end_time": "2024-11-24T14:05:28.398895",
     "exception": false,
     "start_time": "2024-11-24T14:05:28.269048",
     "status": "completed"
    },
    "tags": []
   },
   "outputs": [
    {
     "data": {
      "text/plain": [
       "Timestamp                 39997\n",
       "Source IP Address         40000\n",
       "Destination IP Address    40000\n",
       "Source Port               29761\n",
       "Destination Port          29895\n",
       "Protocol                      3\n",
       "Packet Length              1437\n",
       "Packet Type                   2\n",
       "Traffic Type                  3\n",
       "Payload Data              40000\n",
       "Malware Indicators            1\n",
       "Anomaly Scores             9826\n",
       "Alerts/Warnings               1\n",
       "Attack Type                   3\n",
       "Attack Signature              2\n",
       "Action Taken                  3\n",
       "Severity Level                3\n",
       "User Information          32389\n",
       "Device Information        32104\n",
       "Network Segment               3\n",
       "Geo-location Data          8723\n",
       "Proxy Information         20148\n",
       "Firewall Logs                 1\n",
       "IDS/IPS Alerts                1\n",
       "Log Source                    2\n",
       "dtype: int64"
      ]
     },
     "execution_count": 8,
     "metadata": {},
     "output_type": "execute_result"
    }
   ],
   "source": [
    "data.nunique()"
   ]
  },
  {
   "cell_type": "markdown",
   "id": "b0a670a0",
   "metadata": {
    "papermill": {
     "duration": 0.007891,
     "end_time": "2024-11-24T14:05:28.415287",
     "exception": false,
     "start_time": "2024-11-24T14:05:28.407396",
     "status": "completed"
    },
    "tags": []
   },
   "source": [
    " <ul style=\"color:#fcba03; font-size:18px\">\n",
    "    <li> Some of data are really unique, </li>        \n",
    "    <li> Some of them are have categoric, </li>        \n",
    "    <li> And minority data is can be predictable.</li>\n",
    "</ul>\n",
    "<p style=\"color:#fcba03; font-size:18px\">But we handle it later so we will apply <b>add_random_missing_values</b> function to dataset for creating null value as a bootcamp requirement.</p>"
   ]
  },
  {
   "cell_type": "code",
   "execution_count": 9,
   "id": "6ed198a2",
   "metadata": {
    "execution": {
     "iopub.execute_input": "2024-11-24T14:05:28.434148Z",
     "iopub.status.busy": "2024-11-24T14:05:28.433696Z",
     "iopub.status.idle": "2024-11-24T14:05:28.441678Z",
     "shell.execute_reply": "2024-11-24T14:05:28.440562Z"
    },
    "papermill": {
     "duration": 0.020197,
     "end_time": "2024-11-24T14:05:28.444053",
     "exception": false,
     "start_time": "2024-11-24T14:05:28.423856",
     "status": "completed"
    },
    "tags": []
   },
   "outputs": [],
   "source": [
    "def add_random_missing_values(dataframe: pd.DataFrame,\n",
    "                              missing_rate: float = 0.05) -> pd.DataFrame:\n",
    "    \"\"\"Turns random values to NaN in a DataFrame.\n",
    "\n",
    "    To use this function, you need to import pandas, numpy and random libraries.\n",
    "\n",
    "    Args:\n",
    "        dataframe (pd.DataFrame): DataFrame to be processed.\n",
    "        missing_rate (float): Percentage of missing value rate in float format. Defaults 0.05\n",
    "\n",
    "    Returns:\n",
    "        df_missing (pd.DataFrame): Processed DataFrame object.\n",
    "\n",
    "    \"\"\"\n",
    "    # Get copy of dataframe\n",
    "    df_missing = dataframe.copy()\n",
    "\n",
    "    # Obtain size of dataframe and number total number of missing values\n",
    "    df_size = dataframe.size\n",
    "    num_missing = int(df_size * missing_rate)\n",
    "\n",
    "    # Get random row and column indexes to turn them NaN\n",
    "    for _ in range(num_missing):\n",
    "        row_idx = random.randint(0, dataframe.shape[0] - 1)\n",
    "        col_idx = random.randint(0, dataframe.shape[1] - 1)\n",
    "\n",
    "        df_missing.iat[row_idx, col_idx] = np.nan\n",
    "\n",
    "    return df_missing"
   ]
  },
  {
   "cell_type": "code",
   "execution_count": 10,
   "id": "91e9367d",
   "metadata": {
    "execution": {
     "iopub.execute_input": "2024-11-24T14:05:28.462784Z",
     "iopub.status.busy": "2024-11-24T14:05:28.462376Z",
     "iopub.status.idle": "2024-11-24T14:05:29.138021Z",
     "shell.execute_reply": "2024-11-24T14:05:29.136915Z"
    },
    "papermill": {
     "duration": 0.687776,
     "end_time": "2024-11-24T14:05:29.140483",
     "exception": false,
     "start_time": "2024-11-24T14:05:28.452707",
     "status": "completed"
    },
    "tags": []
   },
   "outputs": [],
   "source": [
    "new_df = add_random_missing_values(data)"
   ]
  },
  {
   "cell_type": "markdown",
   "id": "3aa7fcef",
   "metadata": {
    "papermill": {
     "duration": 0.008597,
     "end_time": "2024-11-24T14:05:29.158121",
     "exception": false,
     "start_time": "2024-11-24T14:05:29.149524",
     "status": "completed"
    },
    "tags": []
   },
   "source": [
    "<p style=\"color:#fcba03; font-size:18px\"> Lets review dataset again </p>"
   ]
  },
  {
   "cell_type": "code",
   "execution_count": 11,
   "id": "4af8f51f",
   "metadata": {
    "execution": {
     "iopub.execute_input": "2024-11-24T14:05:29.176577Z",
     "iopub.status.busy": "2024-11-24T14:05:29.176180Z",
     "iopub.status.idle": "2024-11-24T14:05:29.225638Z",
     "shell.execute_reply": "2024-11-24T14:05:29.224514Z"
    },
    "papermill": {
     "duration": 0.061284,
     "end_time": "2024-11-24T14:05:29.227832",
     "exception": false,
     "start_time": "2024-11-24T14:05:29.166548",
     "status": "completed"
    },
    "tags": []
   },
   "outputs": [
    {
     "data": {
      "text/plain": [
       "Timestamp                  2011\n",
       "Source IP Address          1893\n",
       "Destination IP Address     1961\n",
       "Source Port                1961\n",
       "Destination Port           1930\n",
       "Protocol                   1961\n",
       "Packet Length              1964\n",
       "Packet Type                1983\n",
       "Traffic Type               1860\n",
       "Payload Data               1963\n",
       "Malware Indicators        21053\n",
       "Anomaly Scores             1901\n",
       "Alerts/Warnings           21010\n",
       "Attack Type                1953\n",
       "Attack Signature           1929\n",
       "Action Taken               1919\n",
       "Severity Level             1881\n",
       "User Information           1932\n",
       "Device Information         1956\n",
       "Network Segment            1956\n",
       "Geo-location Data          2009\n",
       "Proxy Information         20839\n",
       "Firewall Logs             20894\n",
       "IDS/IPS Alerts            21065\n",
       "Log Source                 1934\n",
       "dtype: int64"
      ]
     },
     "execution_count": 11,
     "metadata": {},
     "output_type": "execute_result"
    }
   ],
   "source": [
    "new_df.isnull().sum()"
   ]
  },
  {
   "cell_type": "markdown",
   "id": "5287f69b",
   "metadata": {
    "papermill": {
     "duration": 0.008177,
     "end_time": "2024-11-24T14:05:29.244545",
     "exception": false,
     "start_time": "2024-11-24T14:05:29.236368",
     "status": "completed"
    },
    "tags": []
   },
   "source": [
    "<p style=\"color:#fcba03; font-size:18px\">Now we have so many null data for each column</p>"
   ]
  },
  {
   "cell_type": "markdown",
   "id": "ab939b71",
   "metadata": {
    "papermill": {
     "duration": 0.008661,
     "end_time": "2024-11-24T14:05:29.261722",
     "exception": false,
     "start_time": "2024-11-24T14:05:29.253061",
     "status": "completed"
    },
    "tags": []
   },
   "source": [
    "<p style=\"color:#fcba03; font-size:18px\">First of all, let's examine the uniqueness of the each column. Because if there is categorical data that we can handle with prediction or mean value, we need to know which column has categoric data.</p>"
   ]
  },
  {
   "cell_type": "code",
   "execution_count": 12,
   "id": "ceadd78c",
   "metadata": {
    "execution": {
     "iopub.execute_input": "2024-11-24T14:05:29.280491Z",
     "iopub.status.busy": "2024-11-24T14:05:29.280098Z",
     "iopub.status.idle": "2024-11-24T14:05:29.376257Z",
     "shell.execute_reply": "2024-11-24T14:05:29.374955Z"
    },
    "papermill": {
     "duration": 0.108272,
     "end_time": "2024-11-24T14:05:29.378634",
     "exception": false,
     "start_time": "2024-11-24T14:05:29.270362",
     "status": "completed"
    },
    "tags": []
   },
   "outputs": [
    {
     "data": {
      "text/plain": [
       "Timestamp                 37986\n",
       "Source IP Address         38107\n",
       "Destination IP Address    38039\n",
       "Source Port               28709\n",
       "Destination Port          28835\n",
       "Protocol                      3\n",
       "Packet Length              1437\n",
       "Packet Type                   2\n",
       "Traffic Type                  3\n",
       "Payload Data              38037\n",
       "Malware Indicators            1\n",
       "Anomaly Scores             9777\n",
       "Alerts/Warnings               1\n",
       "Attack Type                   3\n",
       "Attack Signature              2\n",
       "Action Taken                  3\n",
       "Severity Level                3\n",
       "User Information          31144\n",
       "Device Information        30560\n",
       "Network Segment               3\n",
       "Geo-location Data          8696\n",
       "Proxy Information         19160\n",
       "Firewall Logs                 1\n",
       "IDS/IPS Alerts                1\n",
       "Log Source                    2\n",
       "dtype: int64"
      ]
     },
     "execution_count": 12,
     "metadata": {},
     "output_type": "execute_result"
    }
   ],
   "source": [
    "new_df.nunique()"
   ]
  },
  {
   "cell_type": "code",
   "execution_count": 13,
   "id": "4db6f0fa",
   "metadata": {
    "execution": {
     "iopub.execute_input": "2024-11-24T14:05:29.397721Z",
     "iopub.status.busy": "2024-11-24T14:05:29.397349Z",
     "iopub.status.idle": "2024-11-24T14:05:29.992635Z",
     "shell.execute_reply": "2024-11-24T14:05:29.991461Z"
    },
    "papermill": {
     "duration": 0.607347,
     "end_time": "2024-11-24T14:05:29.994773",
     "exception": false,
     "start_time": "2024-11-24T14:05:29.387426",
     "status": "completed"
    },
    "tags": []
   },
   "outputs": [
    {
     "data": {
      "image/png": "[encoded data removed]",
      "text/plain": [
       "<Figure size 640x480 with 1 Axes>"
      ]
     },
     "metadata": {},
     "output_type": "display_data"
    }
   ],
   "source": [
    "unique_counts = new_df.nunique()\n",
    "\n",
    "# Bar grafik oluşturma\n",
    "unique_counts.plot(kind='bar')\n",
    "plt.title('Unique Value Counts per Column')\n",
    "plt.xlabel('Columns')\n",
    "plt.ylabel('Unique Value Count')\n",
    "plt.xticks(rotation=90)  # X eksenindeki sütun adlarını daha okunabilir hale getirir\n",
    "plt.show()"
   ]
  },
  {
   "cell_type": "markdown",
   "id": "a6d5a4a9",
   "metadata": {
    "papermill": {
     "duration": 0.010324,
     "end_time": "2024-11-24T14:05:30.015499",
     "exception": false,
     "start_time": "2024-11-24T14:05:30.005175",
     "status": "completed"
    },
    "tags": []
   },
   "source": [
    "<p style=\"color:#fcba03; font-size:18px\">Let's categorize columns with their uniqueness. I specified bottom of the unique value count as 500. If a column have less than 500 unique data then we can handle with their data. If column's unique value count between 500 and 10000, we will examine the datas. And if column's unique data is above 10000 then we will think what we can do.</p>"
   ]
  },
  {
   "cell_type": "code",
   "execution_count": 14,
   "id": "a455371b",
   "metadata": {
    "execution": {
     "iopub.execute_input": "2024-11-24T14:05:30.038078Z",
     "iopub.status.busy": "2024-11-24T14:05:30.037657Z",
     "iopub.status.idle": "2024-11-24T14:05:30.046333Z",
     "shell.execute_reply": "2024-11-24T14:05:30.045093Z"
    },
    "papermill": {
     "duration": 0.022414,
     "end_time": "2024-11-24T14:05:30.048852",
     "exception": false,
     "start_time": "2024-11-24T14:05:30.026438",
     "status": "completed"
    },
    "tags": []
   },
   "outputs": [
    {
     "name": "stdout",
     "output_type": "stream",
     "text": [
      "dict_keys(['Protocol', 'Packet Type', 'Traffic Type', 'Malware Indicators', 'Alerts/Warnings', 'Attack Type', 'Attack Signature', 'Action Taken', 'Severity Level', 'Network Segment', 'Firewall Logs', 'IDS/IPS Alerts', 'Log Source'])\n",
      "\n",
      "dict_keys(['Packet Length', 'Anomaly Scores', 'Geo-location Data'])\n",
      "\n",
      "dict_keys(['Timestamp', 'Source IP Address', 'Destination IP Address', 'Source Port', 'Destination Port', 'Payload Data', 'User Information', 'Device Information', 'Proxy Information'])\n"
     ]
    }
   ],
   "source": [
    "bottom = 500\n",
    "top = 10000\n",
    "most_unique = {}\n",
    "\"\"\"\n",
    "most_unique:dict\n",
    "{ column_name : unique_value_count:int } \n",
    "\"\"\"\n",
    "few_unique = {}\n",
    "\"\"\"\n",
    "few_unique:dict\n",
    "{ column_name : unique_value_count:int } \n",
    "\"\"\"\n",
    "average_unique = {}\n",
    "\"\"\"\n",
    "average_unique:dict\n",
    "{ column_name : unique_value_count:int } \n",
    "\"\"\"\n",
    "for col, count in zip(new_df.columns ,unique_counts):\n",
    "    if count < bottom:\n",
    "        few_unique.update({col:count})\n",
    "    elif (bottom < count) and (count < top):\n",
    "        average_unique.update({col:count})\n",
    "    else:\n",
    "        most_unique.update({col:count})\n",
    "\n",
    "print(few_unique.keys())\n",
    "print()\n",
    "print(average_unique.keys())\n",
    "print()\n",
    "print(most_unique.keys())"
   ]
  },
  {
   "cell_type": "markdown",
   "id": "d0aa81d2",
   "metadata": {
    "papermill": {
     "duration": 0.009617,
     "end_time": "2024-11-24T14:05:30.068548",
     "exception": false,
     "start_time": "2024-11-24T14:05:30.058931",
     "status": "completed"
    },
    "tags": []
   },
   "source": [
    "<p style=\"color:#fcba03; font-size:18px\">Few Unique Data</p>"
   ]
  },
  {
   "cell_type": "code",
   "execution_count": 15,
   "id": "07eb3128",
   "metadata": {
    "execution": {
     "iopub.execute_input": "2024-11-24T14:05:30.090713Z",
     "iopub.status.busy": "2024-11-24T14:05:30.090317Z",
     "iopub.status.idle": "2024-11-24T14:05:30.124017Z",
     "shell.execute_reply": "2024-11-24T14:05:30.122801Z"
    },
    "papermill": {
     "duration": 0.047955,
     "end_time": "2024-11-24T14:05:30.126542",
     "exception": false,
     "start_time": "2024-11-24T14:05:30.078587",
     "status": "completed"
    },
    "tags": []
   },
   "outputs": [
    {
     "name": "stdout",
     "output_type": "stream",
     "text": [
      "Protocol             : ['ICMP', 'UDP', 'TCP']\n",
      "Packet Type          : ['Data', 'Control']\n",
      "Traffic Type         : ['HTTP', 'DNS', 'FTP']\n",
      "Malware Indicators   : ['IoC Detected', nan]\n",
      "Alerts/Warnings      : [nan, 'Alert Triggered']\n",
      "Attack Type          : ['Malware', 'DDoS', 'Intrusion']\n",
      "Attack Signature     : ['Known Pattern B', 'Known Pattern A']\n",
      "Action Taken         : ['Logged', 'Blocked', 'Ignored']\n",
      "Severity Level       : ['Low', 'Medium', 'High']\n",
      "Network Segment      : ['Segment A', 'Segment B', 'Segment C']\n",
      "Firewall Logs        : ['Log Data', nan]\n",
      "IDS/IPS Alerts       : [nan, 'Alert Data']\n",
      "Log Source           : ['Server', 'Firewall']\n"
     ]
    }
   ],
   "source": [
    "# Let's see how is the categoric data in the columns which is have few unique data.\n",
    "few_unique_values = {}\n",
    "\"\"\"\n",
    "few_unique_values:dict\n",
    "{ column_name : [] } # column categoric values \n",
    "all values are alphabetic\n",
    "\"\"\"\n",
    "for column in few_unique.keys():\n",
    "    few_unique_values.update({column: data[column].unique().tolist()})\n",
    "for item in few_unique_values:\n",
    "    print(item.ljust(20), \":\", few_unique_values[item])"
   ]
  },
  {
   "cell_type": "code",
   "execution_count": 16,
   "id": "7a3c688b",
   "metadata": {
    "execution": {
     "iopub.execute_input": "2024-11-24T14:05:30.148962Z",
     "iopub.status.busy": "2024-11-24T14:05:30.148511Z",
     "iopub.status.idle": "2024-11-24T14:05:30.153594Z",
     "shell.execute_reply": "2024-11-24T14:05:30.152382Z"
    },
    "papermill": {
     "duration": 0.01907,
     "end_time": "2024-11-24T14:05:30.155709",
     "exception": false,
     "start_time": "2024-11-24T14:05:30.136639",
     "status": "completed"
    },
    "tags": []
   },
   "outputs": [],
   "source": [
    "# we need to encode the alpabetic data to numeric for better process.\n",
    "encoder = LabelEncoder()"
   ]
  },
  {
   "cell_type": "code",
   "execution_count": 17,
   "id": "7dc8195e",
   "metadata": {
    "execution": {
     "iopub.execute_input": "2024-11-24T14:05:30.177367Z",
     "iopub.status.busy": "2024-11-24T14:05:30.176932Z",
     "iopub.status.idle": "2024-11-24T14:05:30.183903Z",
     "shell.execute_reply": "2024-11-24T14:05:30.182691Z"
    },
    "papermill": {
     "duration": 0.020382,
     "end_time": "2024-11-24T14:05:30.186141",
     "exception": false,
     "start_time": "2024-11-24T14:05:30.165759",
     "status": "completed"
    },
    "tags": []
   },
   "outputs": [
    {
     "data": {
      "text/plain": [
       "'for column in few_unique.keys():\\n    # new_df[column] = encoder.fit_transform(new_df[column])\\n    # With this approach we save NaN values\\n    new_df[column] = new_df[column].apply(\\n        lambda x: encoder.fit_transform([x])[0] if pd.notna(x) else x\\n    )'"
      ]
     },
     "execution_count": 17,
     "metadata": {},
     "output_type": "execute_result"
    }
   ],
   "source": [
    "\"\"\"for column in few_unique.keys():\n",
    "    # new_df[column] = encoder.fit_transform(new_df[column])\n",
    "    # With this approach we save NaN values\n",
    "    new_df[column] = new_df[column].apply(\n",
    "        lambda x: encoder.fit_transform([x])[0] if pd.notna(x) else x\n",
    "    )\"\"\""
   ]
  },
  {
   "cell_type": "code",
   "execution_count": 18,
   "id": "15048bbd",
   "metadata": {
    "execution": {
     "iopub.execute_input": "2024-11-24T14:05:30.208665Z",
     "iopub.status.busy": "2024-11-24T14:05:30.208237Z",
     "iopub.status.idle": "2024-11-24T14:05:30.215957Z",
     "shell.execute_reply": "2024-11-24T14:05:30.214936Z"
    },
    "papermill": {
     "duration": 0.021827,
     "end_time": "2024-11-24T14:05:30.218080",
     "exception": false,
     "start_time": "2024-11-24T14:05:30.196253",
     "status": "completed"
    },
    "tags": []
   },
   "outputs": [
    {
     "data": {
      "text/plain": [
       "\"fig, axes = plt.subplots(3,5, figsize=(20, 10)) \\nfig.suptitle('Unique Value Counts per Few Unique Column', fontsize=16) \\n\\n# Grafikleri oluşturma\\nfor idx, column in enumerate(few_unique.keys()):\\n    row, col = divmod(idx, 5)  # Satır ve sütun indekslerini hesapla\\n    axes[row, col].hist(new_df[column], bins=30)\\n    axes[row, col].set_title(f'{column} Distribution (Histogram)', fontsize=10)\\n    axes[row, col].set_xlabel('Values', fontsize=8)\\n    axes[row, col].set_ylabel('Frequency', fontsize=8)\\n\\n# Boş hücreleri kaldırma (13 grafik için kalan 2 boş hücreyi temizleme)\\nfor idx in range(len(few_unique.keys()), 3 * 5):\\n    row, col = divmod(idx, 5)\\n    axes[row, col].axis('off')  # Boş hücreyi görünmez yap\\n\\n# Düzeni sıkılaştırma\\nplt.tight_layout()\\nplt.subplots_adjust(top=0.9)  # Genel başlık için alan bırakma\\nplt.show()\""
      ]
     },
     "execution_count": 18,
     "metadata": {},
     "output_type": "execute_result"
    }
   ],
   "source": [
    "\"\"\"fig, axes = plt.subplots(3,5, figsize=(20, 10)) \n",
    "fig.suptitle('Unique Value Counts per Few Unique Column', fontsize=16) \n",
    "\n",
    "# Grafikleri oluşturma\n",
    "for idx, column in enumerate(few_unique.keys()):\n",
    "    row, col = divmod(idx, 5)  # Satır ve sütun indekslerini hesapla\n",
    "    axes[row, col].hist(new_df[column], bins=30)\n",
    "    axes[row, col].set_title(f'{column} Distribution (Histogram)', fontsize=10)\n",
    "    axes[row, col].set_xlabel('Values', fontsize=8)\n",
    "    axes[row, col].set_ylabel('Frequency', fontsize=8)\n",
    "\n",
    "# Boş hücreleri kaldırma (13 grafik için kalan 2 boş hücreyi temizleme)\n",
    "for idx in range(len(few_unique.keys()), 3 * 5):\n",
    "    row, col = divmod(idx, 5)\n",
    "    axes[row, col].axis('off')  # Boş hücreyi görünmez yap\n",
    "\n",
    "# Düzeni sıkılaştırma\n",
    "plt.tight_layout()\n",
    "plt.subplots_adjust(top=0.9)  # Genel başlık için alan bırakma\n",
    "plt.show()\"\"\""
   ]
  },
  {
   "cell_type": "markdown",
   "id": "017858fb",
   "metadata": {
    "papermill": {
     "duration": 0.010091,
     "end_time": "2024-11-24T14:05:30.238587",
     "exception": false,
     "start_time": "2024-11-24T14:05:30.228496",
     "status": "completed"
    },
    "tags": []
   },
   "source": [
    "<p style=\"color:#fcba03; font-size:18px\">Average Unique Data</p>"
   ]
  },
  {
   "cell_type": "code",
   "execution_count": 19,
   "id": "32148723",
   "metadata": {
    "execution": {
     "iopub.execute_input": "2024-11-24T14:05:30.261034Z",
     "iopub.status.busy": "2024-11-24T14:05:30.260583Z",
     "iopub.status.idle": "2024-11-24T14:05:30.269239Z",
     "shell.execute_reply": "2024-11-24T14:05:30.268103Z"
    },
    "papermill": {
     "duration": 0.022556,
     "end_time": "2024-11-24T14:05:30.271615",
     "exception": false,
     "start_time": "2024-11-24T14:05:30.249059",
     "status": "completed"
    },
    "tags": []
   },
   "outputs": [
    {
     "name": "stdout",
     "output_type": "stream",
     "text": [
      "Packet Length have        1437 unique data.\n",
      "Here is the 5 head row of the column.\n",
      "0     503.0\n",
      "1    1174.0\n",
      "2     306.0\n",
      "3     385.0\n",
      "4    1462.0\n",
      "Name: Packet Length, dtype: float64\n",
      "\n",
      "Anomaly Scores have       9777 unique data.\n",
      "Here is the 5 head row of the column.\n",
      "0    28.67\n",
      "1    51.50\n",
      "2    87.42\n",
      "3    15.79\n",
      "4     0.52\n",
      "Name: Anomaly Scores, dtype: float64\n",
      "\n",
      "Geo-location Data have    8696 unique data.\n",
      "Here is the 5 head row of the column.\n",
      "0    Jamshedpur, Sikkim\n",
      "1    Bilaspur, Nagaland\n",
      "2     Bokaro, Rajasthan\n",
      "3    Jaunpur, Rajasthan\n",
      "4    Anantapur, Tripura\n",
      "Name: Geo-location Data, dtype: object\n",
      "\n"
     ]
    }
   ],
   "source": [
    "# Let's see how is datas in the columns which is have average number of unique data.\n",
    "for column, values in (average_unique.items()):\n",
    "    print(f\"{column} have \".ljust(25), values, \"unique data.\")\n",
    "    print(\"Here is the 5 head row of the column.\")\n",
    "    print(new_df[column].head())\n",
    "    print()"
   ]
  },
  {
   "cell_type": "code",
   "execution_count": 20,
   "id": "1844f523",
   "metadata": {
    "execution": {
     "iopub.execute_input": "2024-11-24T14:05:30.294155Z",
     "iopub.status.busy": "2024-11-24T14:05:30.293709Z",
     "iopub.status.idle": "2024-11-24T14:05:30.335763Z",
     "shell.execute_reply": "2024-11-24T14:05:30.334344Z"
    },
    "papermill": {
     "duration": 0.056292,
     "end_time": "2024-11-24T14:05:30.338369",
     "exception": false,
     "start_time": "2024-11-24T14:05:30.282077",
     "status": "completed"
    },
    "tags": []
   },
   "outputs": [],
   "source": [
    "new_df['Geo-location Data'] = encoder.fit_transform(new_df['Geo-location Data'])\n",
    "\n",
    "# In addition, we record which data was encoded into which label data\n",
    "Geo_Location_Data_dict = dict(zip(encoder.classes_, encoder.transform(encoder.classes_)))"
   ]
  },
  {
   "cell_type": "code",
   "execution_count": 21,
   "id": "42eab338",
   "metadata": {
    "execution": {
     "iopub.execute_input": "2024-11-24T14:05:30.360686Z",
     "iopub.status.busy": "2024-11-24T14:05:30.360302Z",
     "iopub.status.idle": "2024-11-24T14:05:31.330552Z",
     "shell.execute_reply": "2024-11-24T14:05:31.329408Z"
    },
    "papermill": {
     "duration": 0.984686,
     "end_time": "2024-11-24T14:05:31.333585",
     "exception": false,
     "start_time": "2024-11-24T14:05:30.348899",
     "status": "completed"
    },
    "tags": []
   },
   "outputs": [
    {
     "data": {
      "image/png": "[encoded data removed]",
      "text/plain": [
       "<Figure size 1500x500 with 3 Axes>"
      ]
     },
     "metadata": {},
     "output_type": "display_data"
    }
   ],
   "source": [
    "# Let's see the distribution of the unique datas of average unique data column in histogram graph\n",
    "fig, axes = plt.subplots(1, 3, figsize=(15, 5))  \n",
    "fig.suptitle('Unique Value Counts per Average Unique Column')\n",
    "\n",
    "for idx, column in enumerate(average_unique.keys()):\n",
    "    \n",
    "    axes[idx].hist(new_df[column], bins=30)\n",
    "    axes[idx].set_title(f'{column} Distribution (Histogram)')\n",
    "    axes[idx].set_xlabel('Values')\n",
    "    axes[idx].set_ylabel('Frequency')\n",
    "\n",
    "# Grafikleri gösterme\n",
    "plt.tight_layout()\n",
    "plt.subplots_adjust(top=0.85)  # Başlık için alan bırakmak\n",
    "plt.show()\n"
   ]
  },
  {
   "cell_type": "markdown",
   "id": "6ebfdd5d",
   "metadata": {
    "papermill": {
     "duration": 0.011134,
     "end_time": "2024-11-24T14:05:31.356975",
     "exception": false,
     "start_time": "2024-11-24T14:05:31.345841",
     "status": "completed"
    },
    "tags": []
   },
   "source": [
    "<p style=\"color:#fcba03; font-size:18px\">They seem to be dealt with.</p>"
   ]
  },
  {
   "cell_type": "markdown",
   "id": "cc6bf36d",
   "metadata": {
    "papermill": {
     "duration": 0.012383,
     "end_time": "2024-11-24T14:05:31.382112",
     "exception": false,
     "start_time": "2024-11-24T14:05:31.369729",
     "status": "completed"
    },
    "tags": []
   },
   "source": [
    "<p style=\"color:#fcba03; font-size:18px\">Most Unique Data</p>"
   ]
  },
  {
   "cell_type": "code",
   "execution_count": 22,
   "id": "4dd0a7b6",
   "metadata": {
    "execution": {
     "iopub.execute_input": "2024-11-24T14:05:31.407329Z",
     "iopub.status.busy": "2024-11-24T14:05:31.406894Z",
     "iopub.status.idle": "2024-11-24T14:05:31.419386Z",
     "shell.execute_reply": "2024-11-24T14:05:31.418282Z"
    },
    "papermill": {
     "duration": 0.028161,
     "end_time": "2024-11-24T14:05:31.422050",
     "exception": false,
     "start_time": "2024-11-24T14:05:31.393889",
     "status": "completed"
    },
    "tags": []
   },
   "outputs": [
    {
     "name": "stdout",
     "output_type": "stream",
     "text": [
      "Timestamp have            37986 unique data.\n",
      "Here is the 5 head row of the column.\n",
      "0    2023-05-30 06:33:58\n",
      "1    2020-08-26 07:08:30\n",
      "2    2022-11-13 08:23:25\n",
      "3    2023-07-02 10:38:46\n",
      "4    2023-07-16 13:11:07\n",
      "Name: Timestamp, dtype: object\n",
      "\n",
      "Source IP Address have    38107 unique data.\n",
      "Here is the 5 head row of the column.\n",
      "0     103.216.15.12\n",
      "1    78.199.217.198\n",
      "2      63.79.210.48\n",
      "3               NaN\n",
      "4     71.166.185.76\n",
      "Name: Source IP Address, dtype: object\n",
      "\n",
      "Destination IP Address have  38039 unique data.\n",
      "Here is the 5 head row of the column.\n",
      "0       84.9.164.252\n",
      "1     66.191.137.154\n",
      "2      198.219.82.17\n",
      "3                NaN\n",
      "4    189.243.174.238\n",
      "Name: Destination IP Address, dtype: object\n",
      "\n",
      "Source Port have          28709 unique data.\n",
      "Here is the 5 head row of the column.\n",
      "0    31225.0\n",
      "1    17245.0\n",
      "2    16811.0\n",
      "3    20018.0\n",
      "4     6131.0\n",
      "Name: Source Port, dtype: float64\n",
      "\n",
      "Destination Port have     28835 unique data.\n",
      "Here is the 5 head row of the column.\n",
      "0    17616.0\n",
      "1    48166.0\n",
      "2    53600.0\n",
      "3    32534.0\n",
      "4    26646.0\n",
      "Name: Destination Port, dtype: float64\n",
      "\n",
      "Payload Data have         38037 unique data.\n",
      "Here is the 5 head row of the column.\n",
      "0                                                  NaN\n",
      "1    Aperiam quos modi officiis veritatis rem. Omni...\n",
      "2    Perferendis sapiente vitae soluta. Hic delectu...\n",
      "3    Totam maxime beatae expedita explicabo porro l...\n",
      "4                                                  NaN\n",
      "Name: Payload Data, dtype: object\n",
      "\n",
      "User Information have     31144 unique data.\n",
      "Here is the 5 head row of the column.\n",
      "0    Reyansh Dugal\n",
      "1       Sumer Rana\n",
      "2     Himmat Karpe\n",
      "3       Fateh Kibe\n",
      "4     Dhanush Chad\n",
      "Name: User Information, dtype: object\n",
      "\n",
      "Device Information have   30560 unique data.\n",
      "Here is the 5 head row of the column.\n",
      "0    Mozilla/5.0 (compatible; MSIE 8.0; Windows NT ...\n",
      "1    Mozilla/5.0 (compatible; MSIE 8.0; Windows NT ...\n",
      "2    Mozilla/5.0 (compatible; MSIE 9.0; Windows NT ...\n",
      "3    Mozilla/5.0 (Macintosh; PPC Mac OS X 10_11_5; ...\n",
      "4    Mozilla/5.0 (compatible; MSIE 5.0; Windows NT ...\n",
      "Name: Device Information, dtype: object\n",
      "\n",
      "Proxy Information have    19160 unique data.\n",
      "Here is the 5 head row of the column.\n",
      "0      150.9.97.135\n",
      "1               NaN\n",
      "2    114.133.48.179\n",
      "3               NaN\n",
      "4     149.6.110.119\n",
      "Name: Proxy Information, dtype: object\n",
      "\n"
     ]
    }
   ],
   "source": [
    "for column, values in (most_unique.items()):\n",
    "    print(f\"{column} have \".ljust(25), values, \"unique data.\")\n",
    "    print(\"Here is the 5 head row of the column.\")\n",
    "    print(new_df[column].head())\n",
    "    print()"
   ]
  },
  {
   "cell_type": "code",
   "execution_count": 23,
   "id": "3d7e4e86",
   "metadata": {
    "execution": {
     "iopub.execute_input": "2024-11-24T14:05:31.447160Z",
     "iopub.status.busy": "2024-11-24T14:05:31.446717Z",
     "iopub.status.idle": "2024-11-24T14:05:31.578779Z",
     "shell.execute_reply": "2024-11-24T14:05:31.577484Z"
    },
    "papermill": {
     "duration": 0.147785,
     "end_time": "2024-11-24T14:05:31.581293",
     "exception": false,
     "start_time": "2024-11-24T14:05:31.433508",
     "status": "completed"
    },
    "tags": []
   },
   "outputs": [
    {
     "name": "stdout",
     "output_type": "stream",
     "text": [
      "Most frequent top 3:\n",
      "Timestamp\n",
      "2022-06-06 12:12:43    2\n",
      "2022-06-11 14:28:15    2\n",
      "2022-04-17 20:05:34    2\n",
      "Name: count, dtype: int64\n",
      "Timestamp       37986\n",
      "\n",
      "Source IP Address\n",
      "103.216.15.12      1\n",
      "154.221.143.132    1\n",
      "23.168.82.55       1\n",
      "Name: count, dtype: int64\n",
      "Source IP Address 38107\n",
      "\n",
      "Destination IP Address\n",
      "84.9.164.252     1\n",
      "69.198.150.48    1\n",
      "46.150.172.63    1\n",
      "Name: count, dtype: int64\n",
      "Destination IP Address 38039\n",
      "\n",
      "Source Port\n",
      "41341.0    6\n",
      "47259.0    5\n",
      "34763.0    5\n",
      "Name: count, dtype: int64\n",
      "Source Port     28709\n",
      "\n",
      "Destination Port\n",
      "7508.0     6\n",
      "34117.0    6\n",
      "30804.0    5\n",
      "Name: count, dtype: int64\n",
      "Destination Port 28835\n",
      "\n",
      "Payload Data\n",
      "Aperiam quos modi officiis veritatis rem. Omnis nulla dolore perspiciatis.\\nIllo animi mollitia vero voluptates error ad. Quidem maxime eaque optio a. Consectetur quasi veniam et totam culpa ullam.      1\n",
      "Dignissimos ducimus et. Ratione accusantium exercitationem voluptas distinctio saepe.\\nTempora pariatur asperiores adipisci asperiores aspernatur. Consequuntur alias asperiores unde aspernatur ullam.    1\n",
      "Vitae quibusdam excepturi dolorum nesciunt. Vel aperiam eum dolor quas.\\nPerspiciatis itaque laborum a. Iusto minus culpa minus in laboriosam.                                                             1\n",
      "Name: count, dtype: int64\n",
      "Payload Data    38037\n",
      "\n",
      "User Information\n",
      "Ishaan Chaudhari    6\n",
      "Heer Lad            5\n",
      "Yasmin Ghose        5\n",
      "Name: count, dtype: int64\n",
      "User Information 31144\n",
      "\n",
      "Device Information\n",
      "Mozilla/5.0 (compatible; MSIE 6.0; Windows NT 6.2; Trident/3.0)    34\n",
      "Mozilla/5.0 (compatible; MSIE 6.0; Windows CE; Trident/4.0)        32\n",
      "Mozilla/5.0 (compatible; MSIE 5.0; Windows NT 5.2; Trident/4.1)    30\n",
      "Name: count, dtype: int64\n",
      "Device Information 30560\n",
      "\n",
      "Proxy Information\n",
      "39.123.165.122    2\n",
      "150.9.97.135      1\n",
      "12.176.150.86     1\n",
      "Name: count, dtype: int64\n",
      "Proxy Information 19160\n",
      "\n"
     ]
    }
   ],
   "source": [
    "print(\"Most frequent top 3:\")\n",
    "for column, values in (most_unique.items()):\n",
    "    print(new_df[column].value_counts().head(3))\n",
    "    print(f\"{column.ljust(15)} {values}\")\n",
    "    print()"
   ]
  },
  {
   "cell_type": "markdown",
   "id": "6689078e",
   "metadata": {
    "papermill": {
     "duration": 0.011403,
     "end_time": "2024-11-24T14:05:31.604276",
     "exception": false,
     "start_time": "2024-11-24T14:05:31.592873",
     "status": "completed"
    },
    "tags": []
   },
   "source": [
    "<p style=\"color:#fcba03; font-size:18px\">So we can see that these columns have very different data from each other. At this point, these data cannot be estimated and filled in by looking at other data in the row or by looking at the average in the column. Here we will apply another approach. We have listed the top three of the most used data in each column. For diversity, we will store these values for each column and if there is NaN data in the column, we will randomly assign these values. We can even keep the top 20 most used data, not the top three, for real diversity. </p>"
   ]
  },
  {
   "cell_type": "code",
   "execution_count": 24,
   "id": "aa221a4b",
   "metadata": {
    "execution": {
     "iopub.execute_input": "2024-11-24T14:05:31.629025Z",
     "iopub.status.busy": "2024-11-24T14:05:31.628005Z",
     "iopub.status.idle": "2024-11-24T14:05:31.750149Z",
     "shell.execute_reply": "2024-11-24T14:05:31.749019Z"
    },
    "papermill": {
     "duration": 0.137259,
     "end_time": "2024-11-24T14:05:31.752795",
     "exception": false,
     "start_time": "2024-11-24T14:05:31.615536",
     "status": "completed"
    },
    "tags": []
   },
   "outputs": [],
   "source": [
    "most_unique_values = {}\n",
    "\"\"\"\n",
    "most_unique_values:dict\n",
    "{ column_name : [] } # column top 20 unique value\n",
    "Timestamp              : timestamp values\n",
    "Source IP Address      : ip address values\n",
    "Destination IP Address : ip address values\n",
    "Source Port            : port values as a float\n",
    "Destination Port       : port values as a float\n",
    "Payload Data           : payload data as a text\n",
    "User Information       : user name surname as a text\n",
    "Device Information     : device information as a text\n",
    "Proxy Information      : ip address values\n",
    "\"\"\"\n",
    "for column in (most_unique.keys()):\n",
    "    most_unique_values.update({ column: new_df[column].value_counts().head(20) })\n",
    "    \n",
    "# for item in most_unique_values:\n",
    "#    print(item.ljust(20), \":\", most_unique_values[item])"
   ]
  },
  {
   "cell_type": "markdown",
   "id": "6f850bc4",
   "metadata": {
    "papermill": {
     "duration": 0.011261,
     "end_time": "2024-11-24T14:05:31.776200",
     "exception": false,
     "start_time": "2024-11-24T14:05:31.764939",
     "status": "completed"
    },
    "tags": []
   },
   "source": [
    "<p style=\"color:#fcba03; font-size:18px\">\n",
    "    Now we have,\n",
    "    <ul style=\"color:#fcba03; font-size:18px\">\n",
    "        <li>few_unique_values that hold columns and their categoric data</li>        \n",
    "        <li>average_unique that hold columns and their unique value count</li>        \n",
    "        <li>most_unique_values that hold columns and top most 20 unique data</li>\n",
    "    </ul>\n",
    "</p>"
   ]
  },
  {
   "cell_type": "code",
   "execution_count": 25,
   "id": "385c5701",
   "metadata": {
    "execution": {
     "iopub.execute_input": "2024-11-24T14:05:31.802755Z",
     "iopub.status.busy": "2024-11-24T14:05:31.802331Z",
     "iopub.status.idle": "2024-11-24T14:05:31.829712Z",
     "shell.execute_reply": "2024-11-24T14:05:31.828551Z"
    },
    "papermill": {
     "duration": 0.043309,
     "end_time": "2024-11-24T14:05:31.832188",
     "exception": false,
     "start_time": "2024-11-24T14:05:31.788879",
     "status": "completed"
    },
    "tags": []
   },
   "outputs": [
    {
     "data": {
      "text/html": [
       "<div>\n",
       "<style scoped>\n",
       "    .dataframe tbody tr th:only-of-type {\n",
       "        vertical-align: middle;\n",
       "    }\n",
       "\n",
       "    .dataframe tbody tr th {\n",
       "        vertical-align: top;\n",
       "    }\n",
       "\n",
       "    .dataframe thead th {\n",
       "        text-align: right;\n",
       "    }\n",
       "</style>\n",
       "<table border=\"1\" class=\"dataframe\">\n",
       "  <thead>\n",
       "    <tr style=\"text-align: right;\">\n",
       "      <th></th>\n",
       "      <th>Timestamp</th>\n",
       "      <th>Source IP Address</th>\n",
       "      <th>Destination IP Address</th>\n",
       "      <th>Source Port</th>\n",
       "      <th>Destination Port</th>\n",
       "      <th>Protocol</th>\n",
       "      <th>Packet Length</th>\n",
       "      <th>Packet Type</th>\n",
       "      <th>Traffic Type</th>\n",
       "      <th>Payload Data</th>\n",
       "      <th>...</th>\n",
       "      <th>Action Taken</th>\n",
       "      <th>Severity Level</th>\n",
       "      <th>User Information</th>\n",
       "      <th>Device Information</th>\n",
       "      <th>Network Segment</th>\n",
       "      <th>Geo-location Data</th>\n",
       "      <th>Proxy Information</th>\n",
       "      <th>Firewall Logs</th>\n",
       "      <th>IDS/IPS Alerts</th>\n",
       "      <th>Log Source</th>\n",
       "    </tr>\n",
       "  </thead>\n",
       "  <tbody>\n",
       "    <tr>\n",
       "      <th>0</th>\n",
       "      <td>2023-05-30 06:33:58</td>\n",
       "      <td>103.216.15.12</td>\n",
       "      <td>84.9.164.252</td>\n",
       "      <td>31225.0</td>\n",
       "      <td>17616.0</td>\n",
       "      <td>ICMP</td>\n",
       "      <td>503.0</td>\n",
       "      <td>Data</td>\n",
       "      <td>HTTP</td>\n",
       "      <td>NaN</td>\n",
       "      <td>...</td>\n",
       "      <td>Logged</td>\n",
       "      <td>Low</td>\n",
       "      <td>Reyansh Dugal</td>\n",
       "      <td>Mozilla/5.0 (compatible; MSIE 8.0; Windows NT ...</td>\n",
       "      <td>Segment A</td>\n",
       "      <td>3710</td>\n",
       "      <td>150.9.97.135</td>\n",
       "      <td>Log Data</td>\n",
       "      <td>NaN</td>\n",
       "      <td>Server</td>\n",
       "    </tr>\n",
       "    <tr>\n",
       "      <th>1</th>\n",
       "      <td>2020-08-26 07:08:30</td>\n",
       "      <td>78.199.217.198</td>\n",
       "      <td>66.191.137.154</td>\n",
       "      <td>17245.0</td>\n",
       "      <td>48166.0</td>\n",
       "      <td>ICMP</td>\n",
       "      <td>1174.0</td>\n",
       "      <td>Data</td>\n",
       "      <td>HTTP</td>\n",
       "      <td>Aperiam quos modi officiis veritatis rem. Omni...</td>\n",
       "      <td>...</td>\n",
       "      <td>Blocked</td>\n",
       "      <td>NaN</td>\n",
       "      <td>Sumer Rana</td>\n",
       "      <td>Mozilla/5.0 (compatible; MSIE 8.0; Windows NT ...</td>\n",
       "      <td>Segment B</td>\n",
       "      <td>1672</td>\n",
       "      <td>NaN</td>\n",
       "      <td>Log Data</td>\n",
       "      <td>NaN</td>\n",
       "      <td>NaN</td>\n",
       "    </tr>\n",
       "    <tr>\n",
       "      <th>2</th>\n",
       "      <td>2022-11-13 08:23:25</td>\n",
       "      <td>63.79.210.48</td>\n",
       "      <td>198.219.82.17</td>\n",
       "      <td>16811.0</td>\n",
       "      <td>53600.0</td>\n",
       "      <td>UDP</td>\n",
       "      <td>306.0</td>\n",
       "      <td>Control</td>\n",
       "      <td>HTTP</td>\n",
       "      <td>Perferendis sapiente vitae soluta. Hic delectu...</td>\n",
       "      <td>...</td>\n",
       "      <td>Ignored</td>\n",
       "      <td>Low</td>\n",
       "      <td>Himmat Karpe</td>\n",
       "      <td>Mozilla/5.0 (compatible; MSIE 9.0; Windows NT ...</td>\n",
       "      <td>Segment C</td>\n",
       "      <td>1702</td>\n",
       "      <td>114.133.48.179</td>\n",
       "      <td>Log Data</td>\n",
       "      <td>Alert Data</td>\n",
       "      <td>Firewall</td>\n",
       "    </tr>\n",
       "    <tr>\n",
       "      <th>3</th>\n",
       "      <td>2023-07-02 10:38:46</td>\n",
       "      <td>NaN</td>\n",
       "      <td>NaN</td>\n",
       "      <td>20018.0</td>\n",
       "      <td>32534.0</td>\n",
       "      <td>UDP</td>\n",
       "      <td>385.0</td>\n",
       "      <td>Data</td>\n",
       "      <td>HTTP</td>\n",
       "      <td>Totam maxime beatae expedita explicabo porro l...</td>\n",
       "      <td>...</td>\n",
       "      <td>Blocked</td>\n",
       "      <td>Medium</td>\n",
       "      <td>Fateh Kibe</td>\n",
       "      <td>Mozilla/5.0 (Macintosh; PPC Mac OS X 10_11_5; ...</td>\n",
       "      <td>Segment B</td>\n",
       "      <td>3737</td>\n",
       "      <td>NaN</td>\n",
       "      <td>NaN</td>\n",
       "      <td>Alert Data</td>\n",
       "      <td>Firewall</td>\n",
       "    </tr>\n",
       "    <tr>\n",
       "      <th>4</th>\n",
       "      <td>2023-07-16 13:11:07</td>\n",
       "      <td>71.166.185.76</td>\n",
       "      <td>189.243.174.238</td>\n",
       "      <td>6131.0</td>\n",
       "      <td>26646.0</td>\n",
       "      <td>TCP</td>\n",
       "      <td>1462.0</td>\n",
       "      <td>Data</td>\n",
       "      <td>DNS</td>\n",
       "      <td>NaN</td>\n",
       "      <td>...</td>\n",
       "      <td>Blocked</td>\n",
       "      <td>Low</td>\n",
       "      <td>Dhanush Chad</td>\n",
       "      <td>Mozilla/5.0 (compatible; MSIE 5.0; Windows NT ...</td>\n",
       "      <td>Segment C</td>\n",
       "      <td>577</td>\n",
       "      <td>149.6.110.119</td>\n",
       "      <td>NaN</td>\n",
       "      <td>Alert Data</td>\n",
       "      <td>Firewall</td>\n",
       "    </tr>\n",
       "  </tbody>\n",
       "</table>\n",
       "<p>5 rows × 25 columns</p>\n",
       "</div>"
      ],
      "text/plain": [
       "             Timestamp Source IP Address Destination IP Address  Source Port  \\\n",
       "0  2023-05-30 06:33:58     103.216.15.12           84.9.164.252      31225.0   \n",
       "1  2020-08-26 07:08:30    78.199.217.198         66.191.137.154      17245.0   \n",
       "2  2022-11-13 08:23:25      63.79.210.48          198.219.82.17      16811.0   \n",
       "3  2023-07-02 10:38:46               NaN                    NaN      20018.0   \n",
       "4  2023-07-16 13:11:07     71.166.185.76        189.243.174.238       6131.0   \n",
       "\n",
       "   Destination Port Protocol  Packet Length Packet Type Traffic Type  \\\n",
       "0           17616.0     ICMP          503.0        Data         HTTP   \n",
       "1           48166.0     ICMP         1174.0        Data         HTTP   \n",
       "2           53600.0      UDP          306.0     Control         HTTP   \n",
       "3           32534.0      UDP          385.0        Data         HTTP   \n",
       "4           26646.0      TCP         1462.0        Data          DNS   \n",
       "\n",
       "                                        Payload Data  ... Action Taken  \\\n",
       "0                                                NaN  ...       Logged   \n",
       "1  Aperiam quos modi officiis veritatis rem. Omni...  ...      Blocked   \n",
       "2  Perferendis sapiente vitae soluta. Hic delectu...  ...      Ignored   \n",
       "3  Totam maxime beatae expedita explicabo porro l...  ...      Blocked   \n",
       "4                                                NaN  ...      Blocked   \n",
       "\n",
       "   Severity Level User Information  \\\n",
       "0             Low    Reyansh Dugal   \n",
       "1             NaN       Sumer Rana   \n",
       "2             Low     Himmat Karpe   \n",
       "3          Medium       Fateh Kibe   \n",
       "4             Low     Dhanush Chad   \n",
       "\n",
       "                                  Device Information Network Segment  \\\n",
       "0  Mozilla/5.0 (compatible; MSIE 8.0; Windows NT ...       Segment A   \n",
       "1  Mozilla/5.0 (compatible; MSIE 8.0; Windows NT ...       Segment B   \n",
       "2  Mozilla/5.0 (compatible; MSIE 9.0; Windows NT ...       Segment C   \n",
       "3  Mozilla/5.0 (Macintosh; PPC Mac OS X 10_11_5; ...       Segment B   \n",
       "4  Mozilla/5.0 (compatible; MSIE 5.0; Windows NT ...       Segment C   \n",
       "\n",
       "  Geo-location Data Proxy Information Firewall Logs IDS/IPS Alerts Log Source  \n",
       "0              3710      150.9.97.135      Log Data            NaN     Server  \n",
       "1              1672               NaN      Log Data            NaN        NaN  \n",
       "2              1702    114.133.48.179      Log Data     Alert Data   Firewall  \n",
       "3              3737               NaN           NaN     Alert Data   Firewall  \n",
       "4               577     149.6.110.119           NaN     Alert Data   Firewall  \n",
       "\n",
       "[5 rows x 25 columns]"
      ]
     },
     "execution_count": 25,
     "metadata": {},
     "output_type": "execute_result"
    }
   ],
   "source": [
    "new_df.head()"
   ]
  }
 ],
 "metadata": {
  "kaggle": {
   "accelerator": "none",
   "dataSources": [
    {
     "datasetId": 3859456,
     "sourceId": 9964392,
     "sourceType": "datasetVersion"
    }
   ],
   "dockerImageVersionId": 30786,
   "isGpuEnabled": false,
   "isInternetEnabled": true,
   "language": "python",
   "sourceType": "notebook"
  },
  "kernelspec": {
   "display_name": "Python 3",
   "language": "python",
   "name": "python3"
  },
  "language_info": {
   "codemirror_mode": {
    "name": "ipython",
    "version": 3
   },
   "file_extension": ".py",
   "mimetype": "text/x-python",
   "name": "python",
   "nbconvert_exporter": "python",
   "pygments_lexer": "ipython3",
   "version": "3.10.14"
  },
  "papermill": {
   "default_parameters": {},
   "duration": 10.247749,
   "end_time": "2024-11-24T14:05:32.565915",
   "environment_variables": {},
   "exception": null,
   "input_path": "__notebook__.ipynb",
   "output_path": "__notebook__.ipynb",
   "parameters": {},
   "start_time": "2024-11-24T14:05:22.318166",
   "version": "2.6.0"
  }
 },
 "nbformat": 4,
 "nbformat_minor": 5
}
