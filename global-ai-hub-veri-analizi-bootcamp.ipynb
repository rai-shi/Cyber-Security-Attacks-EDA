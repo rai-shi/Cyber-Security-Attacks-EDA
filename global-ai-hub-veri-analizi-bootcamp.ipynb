{
 "cells": [
  {
   "cell_type": "code",
   "execution_count": 1,
   "id": "445e3d3f",
   "metadata": {
    "_cell_guid": "b1076dfc-b9ad-4769-8c92-a6c4dae69d19",
    "_uuid": "8f2839f25d086af736a60e9eeb907d3b93b6e0e5",
    "execution": {
     "iopub.execute_input": "2024-11-23T21:48:11.163248Z",
     "iopub.status.busy": "2024-11-23T21:48:11.162843Z",
     "iopub.status.idle": "2024-11-23T21:48:13.526562Z",
     "shell.execute_reply": "2024-11-23T21:48:13.525322Z"
    },
    "papermill": {
     "duration": 2.373159,
     "end_time": "2024-11-23T21:48:13.528991",
     "exception": false,
     "start_time": "2024-11-23T21:48:11.155832",
     "status": "completed"
    },
    "tags": []
   },
   "outputs": [
    {
     "name": "stdout",
     "output_type": "stream",
     "text": [
      "/kaggle/input/cyber-security-attacks/README.md\n",
      "/kaggle/input/cyber-security-attacks/cybersecurity_attacks.csv\n"
     ]
    }
   ],
   "source": [
    "# This Python 3 environment comes with many helpful analytics libraries installed\n",
    "# It is defined by the kaggle/python Docker image: https://github.com/kaggle/docker-python\n",
    "# For example, here's several helpful packages to load\n",
    "\n",
    "import numpy as np # linear algebra\n",
    "import pandas as pd # data processing, CSV file I/O (e.g. pd.read_csv)\n",
    "import random\n",
    "import matplotlib.pyplot as plt\n",
    "from sklearn.preprocessing import LabelEncoder\n",
    "\n",
    "# Input data files are available in the read-only \"../input/\" directory\n",
    "# For example, running this (by clicking run or pressing Shift+Enter) will list all files under the input directory\n",
    "\n",
    "import os\n",
    "for dirname, _, filenames in os.walk('/kaggle/input'):\n",
    "    for filename in filenames:\n",
    "        print(os.path.join(dirname, filename))\n",
    "\n",
    "# You can write up to 20GB to the current directory (/kaggle/working/) that gets preserved as output when you create a version using \"Save & Run All\" \n",
    "# You can also write temporary files to /kaggle/temp/, but they won't be saved outside of the current session"
   ]
  },
  {
   "cell_type": "code",
   "execution_count": 2,
   "id": "a6608553",
   "metadata": {
    "execution": {
     "iopub.execute_input": "2024-11-23T21:48:13.540788Z",
     "iopub.status.busy": "2024-11-23T21:48:13.540265Z",
     "iopub.status.idle": "2024-11-23T21:48:14.240576Z",
     "shell.execute_reply": "2024-11-23T21:48:14.239477Z"
    },
    "papermill": {
     "duration": 0.708792,
     "end_time": "2024-11-23T21:48:14.243118",
     "exception": false,
     "start_time": "2024-11-23T21:48:13.534326",
     "status": "completed"
    },
    "tags": []
   },
   "outputs": [],
   "source": [
    "data = pd.read_csv(\"/kaggle/input/cyber-security-attacks/cybersecurity_attacks.csv\")"
   ]
  },
  {
   "cell_type": "code",
   "execution_count": 3,
   "id": "95ba959c",
   "metadata": {
    "execution": {
     "iopub.execute_input": "2024-11-23T21:48:14.254038Z",
     "iopub.status.busy": "2024-11-23T21:48:14.253682Z",
     "iopub.status.idle": "2024-11-23T21:48:14.330170Z",
     "shell.execute_reply": "2024-11-23T21:48:14.329096Z"
    },
    "papermill": {
     "duration": 0.084692,
     "end_time": "2024-11-23T21:48:14.332649",
     "exception": false,
     "start_time": "2024-11-23T21:48:14.247957",
     "status": "completed"
    },
    "tags": []
   },
   "outputs": [
    {
     "name": "stdout",
     "output_type": "stream",
     "text": [
      "<class 'pandas.core.frame.DataFrame'>\n",
      "RangeIndex: 40000 entries, 0 to 39999\n",
      "Data columns (total 25 columns):\n",
      " #   Column                  Non-Null Count  Dtype  \n",
      "---  ------                  --------------  -----  \n",
      " 0   Timestamp               40000 non-null  object \n",
      " 1   Source IP Address       40000 non-null  object \n",
      " 2   Destination IP Address  40000 non-null  object \n",
      " 3   Source Port             40000 non-null  int64  \n",
      " 4   Destination Port        40000 non-null  int64  \n",
      " 5   Protocol                40000 non-null  object \n",
      " 6   Packet Length           40000 non-null  int64  \n",
      " 7   Packet Type             40000 non-null  object \n",
      " 8   Traffic Type            40000 non-null  object \n",
      " 9   Payload Data            40000 non-null  object \n",
      " 10  Malware Indicators      20000 non-null  object \n",
      " 11  Anomaly Scores          40000 non-null  float64\n",
      " 12  Alerts/Warnings         19933 non-null  object \n",
      " 13  Attack Type             40000 non-null  object \n",
      " 14  Attack Signature        40000 non-null  object \n",
      " 15  Action Taken            40000 non-null  object \n",
      " 16  Severity Level          40000 non-null  object \n",
      " 17  User Information        40000 non-null  object \n",
      " 18  Device Information      40000 non-null  object \n",
      " 19  Network Segment         40000 non-null  object \n",
      " 20  Geo-location Data       40000 non-null  object \n",
      " 21  Proxy Information       20149 non-null  object \n",
      " 22  Firewall Logs           20039 non-null  object \n",
      " 23  IDS/IPS Alerts          19950 non-null  object \n",
      " 24  Log Source              40000 non-null  object \n",
      "dtypes: float64(1), int64(3), object(21)\n",
      "memory usage: 7.6+ MB\n"
     ]
    }
   ],
   "source": [
    "data.info()"
   ]
  },
  {
   "cell_type": "code",
   "execution_count": 4,
   "id": "1e2ef149",
   "metadata": {
    "execution": {
     "iopub.execute_input": "2024-11-23T21:48:14.344039Z",
     "iopub.status.busy": "2024-11-23T21:48:14.343639Z",
     "iopub.status.idle": "2024-11-23T21:48:14.370897Z",
     "shell.execute_reply": "2024-11-23T21:48:14.369673Z"
    },
    "papermill": {
     "duration": 0.03562,
     "end_time": "2024-11-23T21:48:14.373232",
     "exception": false,
     "start_time": "2024-11-23T21:48:14.337612",
     "status": "completed"
    },
    "tags": []
   },
   "outputs": [
    {
     "data": {
      "text/html": [
       "<div>\n",
       "<style scoped>\n",
       "    .dataframe tbody tr th:only-of-type {\n",
       "        vertical-align: middle;\n",
       "    }\n",
       "\n",
       "    .dataframe tbody tr th {\n",
       "        vertical-align: top;\n",
       "    }\n",
       "\n",
       "    .dataframe thead th {\n",
       "        text-align: right;\n",
       "    }\n",
       "</style>\n",
       "<table border=\"1\" class=\"dataframe\">\n",
       "  <thead>\n",
       "    <tr style=\"text-align: right;\">\n",
       "      <th></th>\n",
       "      <th>Timestamp</th>\n",
       "      <th>Source IP Address</th>\n",
       "      <th>Destination IP Address</th>\n",
       "      <th>Source Port</th>\n",
       "      <th>Destination Port</th>\n",
       "      <th>Protocol</th>\n",
       "      <th>Packet Length</th>\n",
       "      <th>Packet Type</th>\n",
       "      <th>Traffic Type</th>\n",
       "      <th>Payload Data</th>\n",
       "      <th>...</th>\n",
       "      <th>Action Taken</th>\n",
       "      <th>Severity Level</th>\n",
       "      <th>User Information</th>\n",
       "      <th>Device Information</th>\n",
       "      <th>Network Segment</th>\n",
       "      <th>Geo-location Data</th>\n",
       "      <th>Proxy Information</th>\n",
       "      <th>Firewall Logs</th>\n",
       "      <th>IDS/IPS Alerts</th>\n",
       "      <th>Log Source</th>\n",
       "    </tr>\n",
       "  </thead>\n",
       "  <tbody>\n",
       "    <tr>\n",
       "      <th>0</th>\n",
       "      <td>2023-05-30 06:33:58</td>\n",
       "      <td>103.216.15.12</td>\n",
       "      <td>84.9.164.252</td>\n",
       "      <td>31225</td>\n",
       "      <td>17616</td>\n",
       "      <td>ICMP</td>\n",
       "      <td>503</td>\n",
       "      <td>Data</td>\n",
       "      <td>HTTP</td>\n",
       "      <td>Qui natus odio asperiores nam. Optio nobis ius...</td>\n",
       "      <td>...</td>\n",
       "      <td>Logged</td>\n",
       "      <td>Low</td>\n",
       "      <td>Reyansh Dugal</td>\n",
       "      <td>Mozilla/5.0 (compatible; MSIE 8.0; Windows NT ...</td>\n",
       "      <td>Segment A</td>\n",
       "      <td>Jamshedpur, Sikkim</td>\n",
       "      <td>150.9.97.135</td>\n",
       "      <td>Log Data</td>\n",
       "      <td>NaN</td>\n",
       "      <td>Server</td>\n",
       "    </tr>\n",
       "    <tr>\n",
       "      <th>1</th>\n",
       "      <td>2020-08-26 07:08:30</td>\n",
       "      <td>78.199.217.198</td>\n",
       "      <td>66.191.137.154</td>\n",
       "      <td>17245</td>\n",
       "      <td>48166</td>\n",
       "      <td>ICMP</td>\n",
       "      <td>1174</td>\n",
       "      <td>Data</td>\n",
       "      <td>HTTP</td>\n",
       "      <td>Aperiam quos modi officiis veritatis rem. Omni...</td>\n",
       "      <td>...</td>\n",
       "      <td>Blocked</td>\n",
       "      <td>Low</td>\n",
       "      <td>Sumer Rana</td>\n",
       "      <td>Mozilla/5.0 (compatible; MSIE 8.0; Windows NT ...</td>\n",
       "      <td>Segment B</td>\n",
       "      <td>Bilaspur, Nagaland</td>\n",
       "      <td>NaN</td>\n",
       "      <td>Log Data</td>\n",
       "      <td>NaN</td>\n",
       "      <td>Firewall</td>\n",
       "    </tr>\n",
       "    <tr>\n",
       "      <th>2</th>\n",
       "      <td>2022-11-13 08:23:25</td>\n",
       "      <td>63.79.210.48</td>\n",
       "      <td>198.219.82.17</td>\n",
       "      <td>16811</td>\n",
       "      <td>53600</td>\n",
       "      <td>UDP</td>\n",
       "      <td>306</td>\n",
       "      <td>Control</td>\n",
       "      <td>HTTP</td>\n",
       "      <td>Perferendis sapiente vitae soluta. Hic delectu...</td>\n",
       "      <td>...</td>\n",
       "      <td>Ignored</td>\n",
       "      <td>Low</td>\n",
       "      <td>Himmat Karpe</td>\n",
       "      <td>Mozilla/5.0 (compatible; MSIE 9.0; Windows NT ...</td>\n",
       "      <td>Segment C</td>\n",
       "      <td>Bokaro, Rajasthan</td>\n",
       "      <td>114.133.48.179</td>\n",
       "      <td>Log Data</td>\n",
       "      <td>Alert Data</td>\n",
       "      <td>Firewall</td>\n",
       "    </tr>\n",
       "    <tr>\n",
       "      <th>3</th>\n",
       "      <td>2023-07-02 10:38:46</td>\n",
       "      <td>163.42.196.10</td>\n",
       "      <td>101.228.192.255</td>\n",
       "      <td>20018</td>\n",
       "      <td>32534</td>\n",
       "      <td>UDP</td>\n",
       "      <td>385</td>\n",
       "      <td>Data</td>\n",
       "      <td>HTTP</td>\n",
       "      <td>Totam maxime beatae expedita explicabo porro l...</td>\n",
       "      <td>...</td>\n",
       "      <td>Blocked</td>\n",
       "      <td>Medium</td>\n",
       "      <td>Fateh Kibe</td>\n",
       "      <td>Mozilla/5.0 (Macintosh; PPC Mac OS X 10_11_5; ...</td>\n",
       "      <td>Segment B</td>\n",
       "      <td>Jaunpur, Rajasthan</td>\n",
       "      <td>NaN</td>\n",
       "      <td>NaN</td>\n",
       "      <td>Alert Data</td>\n",
       "      <td>Firewall</td>\n",
       "    </tr>\n",
       "    <tr>\n",
       "      <th>4</th>\n",
       "      <td>2023-07-16 13:11:07</td>\n",
       "      <td>71.166.185.76</td>\n",
       "      <td>189.243.174.238</td>\n",
       "      <td>6131</td>\n",
       "      <td>26646</td>\n",
       "      <td>TCP</td>\n",
       "      <td>1462</td>\n",
       "      <td>Data</td>\n",
       "      <td>DNS</td>\n",
       "      <td>Odit nesciunt dolorem nisi iste iusto. Animi v...</td>\n",
       "      <td>...</td>\n",
       "      <td>Blocked</td>\n",
       "      <td>Low</td>\n",
       "      <td>Dhanush Chad</td>\n",
       "      <td>Mozilla/5.0 (compatible; MSIE 5.0; Windows NT ...</td>\n",
       "      <td>Segment C</td>\n",
       "      <td>Anantapur, Tripura</td>\n",
       "      <td>149.6.110.119</td>\n",
       "      <td>NaN</td>\n",
       "      <td>Alert Data</td>\n",
       "      <td>Firewall</td>\n",
       "    </tr>\n",
       "  </tbody>\n",
       "</table>\n",
       "<p>5 rows × 25 columns</p>\n",
       "</div>"
      ],
      "text/plain": [
       "             Timestamp Source IP Address Destination IP Address  Source Port  \\\n",
       "0  2023-05-30 06:33:58     103.216.15.12           84.9.164.252        31225   \n",
       "1  2020-08-26 07:08:30    78.199.217.198         66.191.137.154        17245   \n",
       "2  2022-11-13 08:23:25      63.79.210.48          198.219.82.17        16811   \n",
       "3  2023-07-02 10:38:46     163.42.196.10        101.228.192.255        20018   \n",
       "4  2023-07-16 13:11:07     71.166.185.76        189.243.174.238         6131   \n",
       "\n",
       "   Destination Port Protocol  Packet Length Packet Type Traffic Type  \\\n",
       "0             17616     ICMP            503        Data         HTTP   \n",
       "1             48166     ICMP           1174        Data         HTTP   \n",
       "2             53600      UDP            306     Control         HTTP   \n",
       "3             32534      UDP            385        Data         HTTP   \n",
       "4             26646      TCP           1462        Data          DNS   \n",
       "\n",
       "                                        Payload Data  ... Action Taken  \\\n",
       "0  Qui natus odio asperiores nam. Optio nobis ius...  ...       Logged   \n",
       "1  Aperiam quos modi officiis veritatis rem. Omni...  ...      Blocked   \n",
       "2  Perferendis sapiente vitae soluta. Hic delectu...  ...      Ignored   \n",
       "3  Totam maxime beatae expedita explicabo porro l...  ...      Blocked   \n",
       "4  Odit nesciunt dolorem nisi iste iusto. Animi v...  ...      Blocked   \n",
       "\n",
       "   Severity Level User Information  \\\n",
       "0             Low    Reyansh Dugal   \n",
       "1             Low       Sumer Rana   \n",
       "2             Low     Himmat Karpe   \n",
       "3          Medium       Fateh Kibe   \n",
       "4             Low     Dhanush Chad   \n",
       "\n",
       "                                  Device Information Network Segment  \\\n",
       "0  Mozilla/5.0 (compatible; MSIE 8.0; Windows NT ...       Segment A   \n",
       "1  Mozilla/5.0 (compatible; MSIE 8.0; Windows NT ...       Segment B   \n",
       "2  Mozilla/5.0 (compatible; MSIE 9.0; Windows NT ...       Segment C   \n",
       "3  Mozilla/5.0 (Macintosh; PPC Mac OS X 10_11_5; ...       Segment B   \n",
       "4  Mozilla/5.0 (compatible; MSIE 5.0; Windows NT ...       Segment C   \n",
       "\n",
       "    Geo-location Data Proxy Information Firewall Logs IDS/IPS Alerts  \\\n",
       "0  Jamshedpur, Sikkim      150.9.97.135      Log Data            NaN   \n",
       "1  Bilaspur, Nagaland               NaN      Log Data            NaN   \n",
       "2   Bokaro, Rajasthan    114.133.48.179      Log Data     Alert Data   \n",
       "3  Jaunpur, Rajasthan               NaN           NaN     Alert Data   \n",
       "4  Anantapur, Tripura     149.6.110.119           NaN     Alert Data   \n",
       "\n",
       "  Log Source  \n",
       "0     Server  \n",
       "1   Firewall  \n",
       "2   Firewall  \n",
       "3   Firewall  \n",
       "4   Firewall  \n",
       "\n",
       "[5 rows x 25 columns]"
      ]
     },
     "execution_count": 4,
     "metadata": {},
     "output_type": "execute_result"
    }
   ],
   "source": [
    "data.head()"
   ]
  },
  {
   "cell_type": "code",
   "execution_count": 5,
   "id": "9a358aa5",
   "metadata": {
    "execution": {
     "iopub.execute_input": "2024-11-23T21:48:14.385230Z",
     "iopub.status.busy": "2024-11-23T21:48:14.384823Z",
     "iopub.status.idle": "2024-11-23T21:48:14.405974Z",
     "shell.execute_reply": "2024-11-23T21:48:14.404948Z"
    },
    "papermill": {
     "duration": 0.029854,
     "end_time": "2024-11-23T21:48:14.408360",
     "exception": false,
     "start_time": "2024-11-23T21:48:14.378506",
     "status": "completed"
    },
    "tags": []
   },
   "outputs": [
    {
     "data": {
      "text/html": [
       "<div>\n",
       "<style scoped>\n",
       "    .dataframe tbody tr th:only-of-type {\n",
       "        vertical-align: middle;\n",
       "    }\n",
       "\n",
       "    .dataframe tbody tr th {\n",
       "        vertical-align: top;\n",
       "    }\n",
       "\n",
       "    .dataframe thead th {\n",
       "        text-align: right;\n",
       "    }\n",
       "</style>\n",
       "<table border=\"1\" class=\"dataframe\">\n",
       "  <thead>\n",
       "    <tr style=\"text-align: right;\">\n",
       "      <th></th>\n",
       "      <th>Timestamp</th>\n",
       "      <th>Source IP Address</th>\n",
       "      <th>Destination IP Address</th>\n",
       "      <th>Source Port</th>\n",
       "      <th>Destination Port</th>\n",
       "      <th>Protocol</th>\n",
       "      <th>Packet Length</th>\n",
       "      <th>Packet Type</th>\n",
       "      <th>Traffic Type</th>\n",
       "      <th>Payload Data</th>\n",
       "      <th>...</th>\n",
       "      <th>Action Taken</th>\n",
       "      <th>Severity Level</th>\n",
       "      <th>User Information</th>\n",
       "      <th>Device Information</th>\n",
       "      <th>Network Segment</th>\n",
       "      <th>Geo-location Data</th>\n",
       "      <th>Proxy Information</th>\n",
       "      <th>Firewall Logs</th>\n",
       "      <th>IDS/IPS Alerts</th>\n",
       "      <th>Log Source</th>\n",
       "    </tr>\n",
       "  </thead>\n",
       "  <tbody>\n",
       "    <tr>\n",
       "      <th>39995</th>\n",
       "      <td>2023-05-26 14:08:42</td>\n",
       "      <td>26.36.109.26</td>\n",
       "      <td>121.100.75.240</td>\n",
       "      <td>31005</td>\n",
       "      <td>6764</td>\n",
       "      <td>UDP</td>\n",
       "      <td>1428</td>\n",
       "      <td>Control</td>\n",
       "      <td>HTTP</td>\n",
       "      <td>Quibusdam ullam consequatur consequuntur accus...</td>\n",
       "      <td>...</td>\n",
       "      <td>Logged</td>\n",
       "      <td>Medium</td>\n",
       "      <td>Adira Madan</td>\n",
       "      <td>Mozilla/5.0 (iPad; CPU iPad OS 14_2_1 like Mac...</td>\n",
       "      <td>Segment A</td>\n",
       "      <td>Nashik, Manipur</td>\n",
       "      <td>NaN</td>\n",
       "      <td>Log Data</td>\n",
       "      <td>Alert Data</td>\n",
       "      <td>Firewall</td>\n",
       "    </tr>\n",
       "    <tr>\n",
       "      <th>39996</th>\n",
       "      <td>2023-03-27 00:38:27</td>\n",
       "      <td>17.21.163.81</td>\n",
       "      <td>196.108.134.78</td>\n",
       "      <td>2553</td>\n",
       "      <td>28091</td>\n",
       "      <td>UDP</td>\n",
       "      <td>1184</td>\n",
       "      <td>Control</td>\n",
       "      <td>HTTP</td>\n",
       "      <td>Quaerat neque esse. Animi expedita natus commo...</td>\n",
       "      <td>...</td>\n",
       "      <td>Logged</td>\n",
       "      <td>High</td>\n",
       "      <td>Rati Dara</td>\n",
       "      <td>Mozilla/5.0 (Windows; U; Windows 98; Win 9x 4....</td>\n",
       "      <td>Segment C</td>\n",
       "      <td>Vadodara, Mizoram</td>\n",
       "      <td>60.51.30.46</td>\n",
       "      <td>Log Data</td>\n",
       "      <td>NaN</td>\n",
       "      <td>Firewall</td>\n",
       "    </tr>\n",
       "    <tr>\n",
       "      <th>39997</th>\n",
       "      <td>2022-03-31 01:45:49</td>\n",
       "      <td>162.35.217.57</td>\n",
       "      <td>98.107.0.15</td>\n",
       "      <td>22505</td>\n",
       "      <td>25152</td>\n",
       "      <td>UDP</td>\n",
       "      <td>1043</td>\n",
       "      <td>Data</td>\n",
       "      <td>DNS</td>\n",
       "      <td>Enim at aspernatur illum. Saepe numquam eligen...</td>\n",
       "      <td>...</td>\n",
       "      <td>Blocked</td>\n",
       "      <td>Low</td>\n",
       "      <td>Samiha Joshi</td>\n",
       "      <td>Mozilla/5.0 (Windows; U; Windows NT 4.0) Apple...</td>\n",
       "      <td>Segment C</td>\n",
       "      <td>Mahbubnagar, Himachal Pradesh</td>\n",
       "      <td>NaN</td>\n",
       "      <td>Log Data</td>\n",
       "      <td>Alert Data</td>\n",
       "      <td>Server</td>\n",
       "    </tr>\n",
       "    <tr>\n",
       "      <th>39998</th>\n",
       "      <td>2023-09-22 18:32:38</td>\n",
       "      <td>208.72.233.205</td>\n",
       "      <td>173.79.112.252</td>\n",
       "      <td>20013</td>\n",
       "      <td>2703</td>\n",
       "      <td>UDP</td>\n",
       "      <td>483</td>\n",
       "      <td>Data</td>\n",
       "      <td>FTP</td>\n",
       "      <td>Officiis dolorem sed harum provident earum dis...</td>\n",
       "      <td>...</td>\n",
       "      <td>Ignored</td>\n",
       "      <td>Low</td>\n",
       "      <td>Rasha Chauhan</td>\n",
       "      <td>Mozilla/5.0 (X11; Linux i686) AppleWebKit/536....</td>\n",
       "      <td>Segment B</td>\n",
       "      <td>Rourkela, Arunachal Pradesh</td>\n",
       "      <td>137.76.130.8</td>\n",
       "      <td>Log Data</td>\n",
       "      <td>NaN</td>\n",
       "      <td>Server</td>\n",
       "    </tr>\n",
       "    <tr>\n",
       "      <th>39999</th>\n",
       "      <td>2023-10-10 11:59:52</td>\n",
       "      <td>14.102.21.108</td>\n",
       "      <td>109.198.45.7</td>\n",
       "      <td>50137</td>\n",
       "      <td>55575</td>\n",
       "      <td>ICMP</td>\n",
       "      <td>1175</td>\n",
       "      <td>Control</td>\n",
       "      <td>HTTP</td>\n",
       "      <td>Eligendi omnis voluptate nihil voluptatibus do...</td>\n",
       "      <td>...</td>\n",
       "      <td>Logged</td>\n",
       "      <td>Medium</td>\n",
       "      <td>Zaina Kumar</td>\n",
       "      <td>Mozilla/5.0 (iPod; U; CPU iPhone OS 3_0 like M...</td>\n",
       "      <td>Segment A</td>\n",
       "      <td>Pudukkottai, West Bengal</td>\n",
       "      <td>112.169.115.139</td>\n",
       "      <td>Log Data</td>\n",
       "      <td>Alert Data</td>\n",
       "      <td>Firewall</td>\n",
       "    </tr>\n",
       "  </tbody>\n",
       "</table>\n",
       "<p>5 rows × 25 columns</p>\n",
       "</div>"
      ],
      "text/plain": [
       "                 Timestamp Source IP Address Destination IP Address  \\\n",
       "39995  2023-05-26 14:08:42      26.36.109.26         121.100.75.240   \n",
       "39996  2023-03-27 00:38:27      17.21.163.81         196.108.134.78   \n",
       "39997  2022-03-31 01:45:49     162.35.217.57            98.107.0.15   \n",
       "39998  2023-09-22 18:32:38    208.72.233.205         173.79.112.252   \n",
       "39999  2023-10-10 11:59:52     14.102.21.108           109.198.45.7   \n",
       "\n",
       "       Source Port  Destination Port Protocol  Packet Length Packet Type  \\\n",
       "39995        31005              6764      UDP           1428     Control   \n",
       "39996         2553             28091      UDP           1184     Control   \n",
       "39997        22505             25152      UDP           1043        Data   \n",
       "39998        20013              2703      UDP            483        Data   \n",
       "39999        50137             55575     ICMP           1175     Control   \n",
       "\n",
       "      Traffic Type                                       Payload Data  ...  \\\n",
       "39995         HTTP  Quibusdam ullam consequatur consequuntur accus...  ...   \n",
       "39996         HTTP  Quaerat neque esse. Animi expedita natus commo...  ...   \n",
       "39997          DNS  Enim at aspernatur illum. Saepe numquam eligen...  ...   \n",
       "39998          FTP  Officiis dolorem sed harum provident earum dis...  ...   \n",
       "39999         HTTP  Eligendi omnis voluptate nihil voluptatibus do...  ...   \n",
       "\n",
       "      Action Taken  Severity Level User Information  \\\n",
       "39995       Logged          Medium      Adira Madan   \n",
       "39996       Logged            High        Rati Dara   \n",
       "39997      Blocked             Low     Samiha Joshi   \n",
       "39998      Ignored             Low    Rasha Chauhan   \n",
       "39999       Logged          Medium      Zaina Kumar   \n",
       "\n",
       "                                      Device Information Network Segment  \\\n",
       "39995  Mozilla/5.0 (iPad; CPU iPad OS 14_2_1 like Mac...       Segment A   \n",
       "39996  Mozilla/5.0 (Windows; U; Windows 98; Win 9x 4....       Segment C   \n",
       "39997  Mozilla/5.0 (Windows; U; Windows NT 4.0) Apple...       Segment C   \n",
       "39998  Mozilla/5.0 (X11; Linux i686) AppleWebKit/536....       Segment B   \n",
       "39999  Mozilla/5.0 (iPod; U; CPU iPhone OS 3_0 like M...       Segment A   \n",
       "\n",
       "                   Geo-location Data Proxy Information Firewall Logs  \\\n",
       "39995                Nashik, Manipur               NaN      Log Data   \n",
       "39996              Vadodara, Mizoram       60.51.30.46      Log Data   \n",
       "39997  Mahbubnagar, Himachal Pradesh               NaN      Log Data   \n",
       "39998    Rourkela, Arunachal Pradesh      137.76.130.8      Log Data   \n",
       "39999       Pudukkottai, West Bengal   112.169.115.139      Log Data   \n",
       "\n",
       "      IDS/IPS Alerts Log Source  \n",
       "39995     Alert Data   Firewall  \n",
       "39996            NaN   Firewall  \n",
       "39997     Alert Data     Server  \n",
       "39998            NaN     Server  \n",
       "39999     Alert Data   Firewall  \n",
       "\n",
       "[5 rows x 25 columns]"
      ]
     },
     "execution_count": 5,
     "metadata": {},
     "output_type": "execute_result"
    }
   ],
   "source": [
    "data.tail()"
   ]
  },
  {
   "cell_type": "code",
   "execution_count": 6,
   "id": "0b8edcb1",
   "metadata": {
    "execution": {
     "iopub.execute_input": "2024-11-23T21:48:14.422110Z",
     "iopub.status.busy": "2024-11-23T21:48:14.421657Z",
     "iopub.status.idle": "2024-11-23T21:48:14.428441Z",
     "shell.execute_reply": "2024-11-23T21:48:14.427246Z"
    },
    "papermill": {
     "duration": 0.016591,
     "end_time": "2024-11-23T21:48:14.430473",
     "exception": false,
     "start_time": "2024-11-23T21:48:14.413882",
     "status": "completed"
    },
    "tags": []
   },
   "outputs": [
    {
     "data": {
      "text/plain": [
       "(40000, 25)"
      ]
     },
     "execution_count": 6,
     "metadata": {},
     "output_type": "execute_result"
    }
   ],
   "source": [
    "data.shape"
   ]
  },
  {
   "cell_type": "code",
   "execution_count": 7,
   "id": "cd77be2b",
   "metadata": {
    "execution": {
     "iopub.execute_input": "2024-11-23T21:48:14.443348Z",
     "iopub.status.busy": "2024-11-23T21:48:14.442943Z",
     "iopub.status.idle": "2024-11-23T21:48:14.493781Z",
     "shell.execute_reply": "2024-11-23T21:48:14.492566Z"
    },
    "papermill": {
     "duration": 0.059899,
     "end_time": "2024-11-23T21:48:14.495945",
     "exception": false,
     "start_time": "2024-11-23T21:48:14.436046",
     "status": "completed"
    },
    "tags": []
   },
   "outputs": [
    {
     "name": "stdout",
     "output_type": "stream",
     "text": [
      "there are 40000 data in the dataset.\n"
     ]
    },
    {
     "data": {
      "text/plain": [
       "Timestamp                     0\n",
       "Source IP Address             0\n",
       "Destination IP Address        0\n",
       "Source Port                   0\n",
       "Destination Port              0\n",
       "Protocol                      0\n",
       "Packet Length                 0\n",
       "Packet Type                   0\n",
       "Traffic Type                  0\n",
       "Payload Data                  0\n",
       "Malware Indicators        20000\n",
       "Anomaly Scores                0\n",
       "Alerts/Warnings           20067\n",
       "Attack Type                   0\n",
       "Attack Signature              0\n",
       "Action Taken                  0\n",
       "Severity Level                0\n",
       "User Information              0\n",
       "Device Information            0\n",
       "Network Segment               0\n",
       "Geo-location Data             0\n",
       "Proxy Information         19851\n",
       "Firewall Logs             19961\n",
       "IDS/IPS Alerts            20050\n",
       "Log Source                    0\n",
       "dtype: int64"
      ]
     },
     "execution_count": 7,
     "metadata": {},
     "output_type": "execute_result"
    }
   ],
   "source": [
    "print(f\"there are {data.shape[0]} data in the dataset.\")\n",
    "data.isnull().sum()"
   ]
  },
  {
   "cell_type": "markdown",
   "id": "3baa4237",
   "metadata": {
    "papermill": {
     "duration": 0.005623,
     "end_time": "2024-11-23T21:48:14.507497",
     "exception": false,
     "start_time": "2024-11-23T21:48:14.501874",
     "status": "completed"
    },
    "tags": []
   },
   "source": [
    "we already have some null data"
   ]
  },
  {
   "cell_type": "code",
   "execution_count": 8,
   "id": "2e071b8a",
   "metadata": {
    "execution": {
     "iopub.execute_input": "2024-11-23T21:48:14.522200Z",
     "iopub.status.busy": "2024-11-23T21:48:14.521225Z",
     "iopub.status.idle": "2024-11-23T21:48:14.639288Z",
     "shell.execute_reply": "2024-11-23T21:48:14.638000Z"
    },
    "papermill": {
     "duration": 0.128178,
     "end_time": "2024-11-23T21:48:14.641641",
     "exception": false,
     "start_time": "2024-11-23T21:48:14.513463",
     "status": "completed"
    },
    "tags": []
   },
   "outputs": [
    {
     "data": {
      "text/plain": [
       "Timestamp                 39997\n",
       "Source IP Address         40000\n",
       "Destination IP Address    40000\n",
       "Source Port               29761\n",
       "Destination Port          29895\n",
       "Protocol                      3\n",
       "Packet Length              1437\n",
       "Packet Type                   2\n",
       "Traffic Type                  3\n",
       "Payload Data              40000\n",
       "Malware Indicators            1\n",
       "Anomaly Scores             9826\n",
       "Alerts/Warnings               1\n",
       "Attack Type                   3\n",
       "Attack Signature              2\n",
       "Action Taken                  3\n",
       "Severity Level                3\n",
       "User Information          32389\n",
       "Device Information        32104\n",
       "Network Segment               3\n",
       "Geo-location Data          8723\n",
       "Proxy Information         20148\n",
       "Firewall Logs                 1\n",
       "IDS/IPS Alerts                1\n",
       "Log Source                    2\n",
       "dtype: int64"
      ]
     },
     "execution_count": 8,
     "metadata": {},
     "output_type": "execute_result"
    }
   ],
   "source": [
    "data.nunique()"
   ]
  },
  {
   "cell_type": "code",
   "execution_count": 9,
   "id": "53300d52",
   "metadata": {
    "execution": {
     "iopub.execute_input": "2024-11-23T21:48:14.655198Z",
     "iopub.status.busy": "2024-11-23T21:48:14.654816Z",
     "iopub.status.idle": "2024-11-23T21:48:14.661655Z",
     "shell.execute_reply": "2024-11-23T21:48:14.660501Z"
    },
    "papermill": {
     "duration": 0.016161,
     "end_time": "2024-11-23T21:48:14.663873",
     "exception": false,
     "start_time": "2024-11-23T21:48:14.647712",
     "status": "completed"
    },
    "tags": []
   },
   "outputs": [],
   "source": [
    "def add_random_missing_values(dataframe: pd.DataFrame,\n",
    "                              missing_rate: float = 0.05) -> pd.DataFrame:\n",
    "    \"\"\"Turns random values to NaN in a DataFrame.\n",
    "\n",
    "    To use this function, you need to import pandas, numpy and random libraries.\n",
    "\n",
    "    Args:\n",
    "        dataframe (pd.DataFrame): DataFrame to be processed.\n",
    "        missing_rate (float): Percentage of missing value rate in float format. Defaults 0.05\n",
    "\n",
    "    Returns:\n",
    "        df_missing (pd.DataFrame): Processed DataFrame object.\n",
    "\n",
    "    \"\"\"\n",
    "    # Get copy of dataframe\n",
    "    df_missing = dataframe.copy()\n",
    "\n",
    "    # Obtain size of dataframe and number total number of missing values\n",
    "    df_size = dataframe.size\n",
    "    num_missing = int(df_size * missing_rate)\n",
    "\n",
    "    # Get random row and column indexes to turn them NaN\n",
    "    for _ in range(num_missing):\n",
    "        row_idx = random.randint(0, dataframe.shape[0] - 1)\n",
    "        col_idx = random.randint(0, dataframe.shape[1] - 1)\n",
    "\n",
    "        df_missing.iat[row_idx, col_idx] = np.nan\n",
    "\n",
    "    return df_missing"
   ]
  },
  {
   "cell_type": "code",
   "execution_count": 10,
   "id": "0085b92b",
   "metadata": {
    "execution": {
     "iopub.execute_input": "2024-11-23T21:48:14.677545Z",
     "iopub.status.busy": "2024-11-23T21:48:14.677095Z",
     "iopub.status.idle": "2024-11-23T21:48:15.369775Z",
     "shell.execute_reply": "2024-11-23T21:48:15.368626Z"
    },
    "papermill": {
     "duration": 0.702339,
     "end_time": "2024-11-23T21:48:15.372233",
     "exception": false,
     "start_time": "2024-11-23T21:48:14.669894",
     "status": "completed"
    },
    "tags": []
   },
   "outputs": [],
   "source": [
    "new_df = add_random_missing_values(data)"
   ]
  },
  {
   "cell_type": "code",
   "execution_count": 11,
   "id": "240b45df",
   "metadata": {
    "execution": {
     "iopub.execute_input": "2024-11-23T21:48:15.385766Z",
     "iopub.status.busy": "2024-11-23T21:48:15.385332Z",
     "iopub.status.idle": "2024-11-23T21:48:15.433886Z",
     "shell.execute_reply": "2024-11-23T21:48:15.432678Z"
    },
    "papermill": {
     "duration": 0.05795,
     "end_time": "2024-11-23T21:48:15.436210",
     "exception": false,
     "start_time": "2024-11-23T21:48:15.378260",
     "status": "completed"
    },
    "tags": []
   },
   "outputs": [
    {
     "data": {
      "text/plain": [
       "Timestamp                  2030\n",
       "Source IP Address          1959\n",
       "Destination IP Address     1945\n",
       "Source Port                2022\n",
       "Destination Port           1910\n",
       "Protocol                   1924\n",
       "Packet Length              1918\n",
       "Packet Type                1942\n",
       "Traffic Type               2037\n",
       "Payload Data               1920\n",
       "Malware Indicators        20958\n",
       "Anomaly Scores             1889\n",
       "Alerts/Warnings           21093\n",
       "Attack Type                1947\n",
       "Attack Signature           2048\n",
       "Action Taken               1889\n",
       "Severity Level             1912\n",
       "User Information           1871\n",
       "Device Information         1934\n",
       "Network Segment            1915\n",
       "Geo-location Data          1976\n",
       "Proxy Information         20831\n",
       "Firewall Logs             20991\n",
       "IDS/IPS Alerts            21008\n",
       "Log Source                 1989\n",
       "dtype: int64"
      ]
     },
     "execution_count": 11,
     "metadata": {},
     "output_type": "execute_result"
    }
   ],
   "source": [
    "new_df.isnull().sum()"
   ]
  },
  {
   "cell_type": "code",
   "execution_count": 12,
   "id": "e0bd7a85",
   "metadata": {
    "execution": {
     "iopub.execute_input": "2024-11-23T21:48:15.449893Z",
     "iopub.status.busy": "2024-11-23T21:48:15.449520Z",
     "iopub.status.idle": "2024-11-23T21:48:15.540130Z",
     "shell.execute_reply": "2024-11-23T21:48:15.539075Z"
    },
    "papermill": {
     "duration": 0.100364,
     "end_time": "2024-11-23T21:48:15.542620",
     "exception": false,
     "start_time": "2024-11-23T21:48:15.442256",
     "status": "completed"
    },
    "tags": []
   },
   "outputs": [
    {
     "data": {
      "text/plain": [
       "Timestamp                 37968\n",
       "Source IP Address         38041\n",
       "Destination IP Address    38055\n",
       "Source Port               28678\n",
       "Destination Port          28849\n",
       "Protocol                      3\n",
       "Packet Length              1437\n",
       "Packet Type                   2\n",
       "Traffic Type                  3\n",
       "Payload Data              38080\n",
       "Malware Indicators            1\n",
       "Anomaly Scores             9766\n",
       "Alerts/Warnings               1\n",
       "Attack Type                   3\n",
       "Attack Signature              2\n",
       "Action Taken                  3\n",
       "Severity Level                3\n",
       "User Information          31146\n",
       "Device Information        30602\n",
       "Network Segment               3\n",
       "Geo-location Data          8700\n",
       "Proxy Information         19168\n",
       "Firewall Logs                 1\n",
       "IDS/IPS Alerts                1\n",
       "Log Source                    2\n",
       "dtype: int64"
      ]
     },
     "execution_count": 12,
     "metadata": {},
     "output_type": "execute_result"
    }
   ],
   "source": [
    "new_df.nunique()"
   ]
  },
  {
   "cell_type": "code",
   "execution_count": 13,
   "id": "cb5b10ee",
   "metadata": {
    "execution": {
     "iopub.execute_input": "2024-11-23T21:48:15.556445Z",
     "iopub.status.busy": "2024-11-23T21:48:15.556039Z",
     "iopub.status.idle": "2024-11-23T21:48:16.151636Z",
     "shell.execute_reply": "2024-11-23T21:48:16.150475Z"
    },
    "papermill": {
     "duration": 0.605226,
     "end_time": "2024-11-23T21:48:16.154011",
     "exception": false,
     "start_time": "2024-11-23T21:48:15.548785",
     "status": "completed"
    },
    "tags": []
   },
   "outputs": [
    {
     "data": {
      "image/png": "[encoded data removed]",
      "text/plain": [
       "<Figure size 640x480 with 1 Axes>"
      ]
     },
     "metadata": {},
     "output_type": "display_data"
    }
   ],
   "source": [
    "unique_counts = new_df.nunique()\n",
    "\n",
    "# Bar grafik oluşturma\n",
    "unique_counts.plot(kind='bar')\n",
    "plt.title('Unique Value Counts per Column')\n",
    "plt.xlabel('Columns')\n",
    "plt.ylabel('Unique Value Count')\n",
    "plt.xticks(rotation=90)  # X eksenindeki sütun adlarını daha okunabilir hale getirir\n",
    "plt.show()"
   ]
  },
  {
   "cell_type": "code",
   "execution_count": 14,
   "id": "5f737194",
   "metadata": {
    "execution": {
     "iopub.execute_input": "2024-11-23T21:48:16.171825Z",
     "iopub.status.busy": "2024-11-23T21:48:16.171373Z",
     "iopub.status.idle": "2024-11-23T21:48:16.179144Z",
     "shell.execute_reply": "2024-11-23T21:48:16.177928Z"
    },
    "papermill": {
     "duration": 0.01973,
     "end_time": "2024-11-23T21:48:16.181556",
     "exception": false,
     "start_time": "2024-11-23T21:48:16.161826",
     "status": "completed"
    },
    "tags": []
   },
   "outputs": [
    {
     "name": "stdout",
     "output_type": "stream",
     "text": [
      "dict_keys(['Protocol', 'Packet Type', 'Traffic Type', 'Malware Indicators', 'Alerts/Warnings', 'Attack Type', 'Attack Signature', 'Action Taken', 'Severity Level', 'Network Segment', 'Firewall Logs', 'IDS/IPS Alerts', 'Log Source'])\n",
      "\n",
      "dict_keys(['Packet Length', 'Anomaly Scores', 'Geo-location Data'])\n",
      "\n",
      "dict_keys(['Timestamp', 'Source IP Address', 'Destination IP Address', 'Source Port', 'Destination Port', 'Payload Data', 'User Information', 'Device Information', 'Proxy Information'])\n"
     ]
    }
   ],
   "source": [
    "bottom = 1000\n",
    "top = 10000\n",
    "most_unique = {}\n",
    "last_unique = {}\n",
    "average_unique = {}\n",
    "for col, count in zip(new_df.columns ,unique_counts):\n",
    "    if count < bottom:\n",
    "        last_unique.update({col:count})\n",
    "    elif (bottom < count) and (count < top):\n",
    "        average_unique.update({col:count})\n",
    "    else:\n",
    "        most_unique.update({col:count})\n",
    "\n",
    "print(last_unique.keys())\n",
    "print()\n",
    "print(average_unique.keys())\n",
    "print()\n",
    "print(most_unique.keys())"
   ]
  },
  {
   "cell_type": "code",
   "execution_count": 15,
   "id": "6fcc9c68",
   "metadata": {
    "execution": {
     "iopub.execute_input": "2024-11-23T21:48:16.197985Z",
     "iopub.status.busy": "2024-11-23T21:48:16.197581Z",
     "iopub.status.idle": "2024-11-23T21:48:16.231488Z",
     "shell.execute_reply": "2024-11-23T21:48:16.230103Z"
    },
    "papermill": {
     "duration": 0.044718,
     "end_time": "2024-11-23T21:48:16.233720",
     "exception": false,
     "start_time": "2024-11-23T21:48:16.189002",
     "status": "completed"
    },
    "tags": []
   },
   "outputs": [
    {
     "name": "stdout",
     "output_type": "stream",
     "text": [
      "Protocol             : ['ICMP', 'UDP', 'TCP']\n",
      "Packet Type          : ['Data', 'Control']\n",
      "Traffic Type         : ['HTTP', 'DNS', 'FTP']\n",
      "Malware Indicators   : ['IoC Detected', nan]\n",
      "Alerts/Warnings      : [nan, 'Alert Triggered']\n",
      "Attack Type          : ['Malware', 'DDoS', 'Intrusion']\n",
      "Attack Signature     : ['Known Pattern B', 'Known Pattern A']\n",
      "Action Taken         : ['Logged', 'Blocked', 'Ignored']\n",
      "Severity Level       : ['Low', 'Medium', 'High']\n",
      "Network Segment      : ['Segment A', 'Segment B', 'Segment C']\n",
      "Firewall Logs        : ['Log Data', nan]\n",
      "IDS/IPS Alerts       : [nan, 'Alert Data']\n",
      "Log Source           : ['Server', 'Firewall']\n"
     ]
    }
   ],
   "source": [
    "last_unique_values = {}\n",
    "for column in last_unique.keys():\n",
    "    last_unique_values.update({column: data[column].unique().tolist()})\n",
    "for item in last_unique_values:\n",
    "    print(item.ljust(20), \":\", last_unique_values[item])"
   ]
  },
  {
   "cell_type": "code",
   "execution_count": 16,
   "id": "c82d6d85",
   "metadata": {
    "execution": {
     "iopub.execute_input": "2024-11-23T21:48:16.250284Z",
     "iopub.status.busy": "2024-11-23T21:48:16.249883Z",
     "iopub.status.idle": "2024-11-23T21:48:16.258036Z",
     "shell.execute_reply": "2024-11-23T21:48:16.256993Z"
    },
    "papermill": {
     "duration": 0.019359,
     "end_time": "2024-11-23T21:48:16.260722",
     "exception": false,
     "start_time": "2024-11-23T21:48:16.241363",
     "status": "completed"
    },
    "tags": []
   },
   "outputs": [
    {
     "name": "stdout",
     "output_type": "stream",
     "text": [
      "Packet Length        : 1437\n",
      "0     503.0\n",
      "1    1174.0\n",
      "2     306.0\n",
      "3     385.0\n",
      "4    1462.0\n",
      "Name: Packet Length, dtype: float64\n",
      "\n",
      "Anomaly Scores       : 9766\n",
      "0    28.67\n",
      "1    51.50\n",
      "2      NaN\n",
      "3    15.79\n",
      "4     0.52\n",
      "Name: Anomaly Scores, dtype: float64\n",
      "\n",
      "Geo-location Data    : 8700\n",
      "0    Jamshedpur, Sikkim\n",
      "1    Bilaspur, Nagaland\n",
      "2     Bokaro, Rajasthan\n",
      "3    Jaunpur, Rajasthan\n",
      "4    Anantapur, Tripura\n",
      "Name: Geo-location Data, dtype: object\n",
      "\n"
     ]
    }
   ],
   "source": [
    "for column, values in (average_unique.items()):\n",
    "    print(column.ljust(20), \":\", values)\n",
    "    print(new_df[column].head())\n",
    "    print()"
   ]
  },
  {
   "cell_type": "code",
   "execution_count": 17,
   "id": "4705229b",
   "metadata": {
    "execution": {
     "iopub.execute_input": "2024-11-23T21:48:16.277198Z",
     "iopub.status.busy": "2024-11-23T21:48:16.276828Z",
     "iopub.status.idle": "2024-11-23T21:48:16.319259Z",
     "shell.execute_reply": "2024-11-23T21:48:16.318354Z"
    },
    "papermill": {
     "duration": 0.053537,
     "end_time": "2024-11-23T21:48:16.321601",
     "exception": false,
     "start_time": "2024-11-23T21:48:16.268064",
     "status": "completed"
    },
    "tags": []
   },
   "outputs": [],
   "source": [
    "encoder = LabelEncoder()\n",
    "new_df['Geo-location Data'] = encoder.fit_transform(new_df['Geo-location Data'])\n",
    "\n",
    "Geo_Location_Data_dict = dict(zip(encoder.classes_, encoder.transform(encoder.classes_)))"
   ]
  },
  {
   "cell_type": "code",
   "execution_count": 18,
   "id": "92426595",
   "metadata": {
    "execution": {
     "iopub.execute_input": "2024-11-23T21:48:16.338250Z",
     "iopub.status.busy": "2024-11-23T21:48:16.337852Z",
     "iopub.status.idle": "2024-11-23T21:48:17.120784Z",
     "shell.execute_reply": "2024-11-23T21:48:17.119713Z"
    },
    "papermill": {
     "duration": 0.794195,
     "end_time": "2024-11-23T21:48:17.123342",
     "exception": false,
     "start_time": "2024-11-23T21:48:16.329147",
     "status": "completed"
    },
    "tags": []
   },
   "outputs": [
    {
     "data": {
      "image/png": "[encoded data removed]",
      "text/plain": [
       "<Figure size 1500x500 with 3 Axes>"
      ]
     },
     "metadata": {},
     "output_type": "display_data"
    }
   ],
   "source": [
    "# Subplots ile üç grafiği aynı figürde yerleştirme\n",
    "fig, axes = plt.subplots(1, 3, figsize=(15, 5))  \n",
    "fig.suptitle('Unique Value Counts per Column')\n",
    "\n",
    "for idx, column in enumerate(average_unique.keys()):\n",
    "    \n",
    "    axes[idx].hist(new_df[column], bins=30)\n",
    "    axes[idx].set_title(f'{column} Distribution (Histogram)')\n",
    "    axes[idx].set_xlabel('Values')\n",
    "    axes[idx].set_ylabel('Frequency')\n",
    "\n",
    "# Grafikleri gösterme\n",
    "plt.tight_layout()\n",
    "plt.subplots_adjust(top=0.85)  # Başlık için alan bırakmak\n",
    "plt.show()\n"
   ]
  },
  {
   "cell_type": "code",
   "execution_count": 19,
   "id": "85c72948",
   "metadata": {
    "execution": {
     "iopub.execute_input": "2024-11-23T21:48:17.142501Z",
     "iopub.status.busy": "2024-11-23T21:48:17.142069Z",
     "iopub.status.idle": "2024-11-23T21:48:17.153501Z",
     "shell.execute_reply": "2024-11-23T21:48:17.152324Z"
    },
    "papermill": {
     "duration": 0.024019,
     "end_time": "2024-11-23T21:48:17.156181",
     "exception": false,
     "start_time": "2024-11-23T21:48:17.132162",
     "status": "completed"
    },
    "tags": []
   },
   "outputs": [
    {
     "name": "stdout",
     "output_type": "stream",
     "text": [
      "Timestamp            : 37968\n",
      "0    2023-05-30 06:33:58\n",
      "1    2020-08-26 07:08:30\n",
      "2    2022-11-13 08:23:25\n",
      "3    2023-07-02 10:38:46\n",
      "4    2023-07-16 13:11:07\n",
      "Name: Timestamp, dtype: object\n",
      "\n",
      "Source IP Address    : 38041\n",
      "0     103.216.15.12\n",
      "1    78.199.217.198\n",
      "2      63.79.210.48\n",
      "3     163.42.196.10\n",
      "4     71.166.185.76\n",
      "Name: Source IP Address, dtype: object\n",
      "\n",
      "Destination IP Address : 38055\n",
      "0       84.9.164.252\n",
      "1     66.191.137.154\n",
      "2      198.219.82.17\n",
      "3    101.228.192.255\n",
      "4    189.243.174.238\n",
      "Name: Destination IP Address, dtype: object\n",
      "\n",
      "Source Port          : 28678\n",
      "0    31225.0\n",
      "1    17245.0\n",
      "2    16811.0\n",
      "3    20018.0\n",
      "4     6131.0\n",
      "Name: Source Port, dtype: float64\n",
      "\n",
      "Destination Port     : 28849\n",
      "0    17616.0\n",
      "1    48166.0\n",
      "2    53600.0\n",
      "3    32534.0\n",
      "4    26646.0\n",
      "Name: Destination Port, dtype: float64\n",
      "\n",
      "Payload Data         : 38080\n",
      "0                                                  NaN\n",
      "1    Aperiam quos modi officiis veritatis rem. Omni...\n",
      "2    Perferendis sapiente vitae soluta. Hic delectu...\n",
      "3    Totam maxime beatae expedita explicabo porro l...\n",
      "4    Odit nesciunt dolorem nisi iste iusto. Animi v...\n",
      "Name: Payload Data, dtype: object\n",
      "\n",
      "User Information     : 31146\n",
      "0    Reyansh Dugal\n",
      "1       Sumer Rana\n",
      "2     Himmat Karpe\n",
      "3       Fateh Kibe\n",
      "4     Dhanush Chad\n",
      "Name: User Information, dtype: object\n",
      "\n",
      "Device Information   : 30602\n",
      "0    Mozilla/5.0 (compatible; MSIE 8.0; Windows NT ...\n",
      "1    Mozilla/5.0 (compatible; MSIE 8.0; Windows NT ...\n",
      "2    Mozilla/5.0 (compatible; MSIE 9.0; Windows NT ...\n",
      "3    Mozilla/5.0 (Macintosh; PPC Mac OS X 10_11_5; ...\n",
      "4    Mozilla/5.0 (compatible; MSIE 5.0; Windows NT ...\n",
      "Name: Device Information, dtype: object\n",
      "\n",
      "Proxy Information    : 19168\n",
      "0      150.9.97.135\n",
      "1               NaN\n",
      "2    114.133.48.179\n",
      "3               NaN\n",
      "4     149.6.110.119\n",
      "Name: Proxy Information, dtype: object\n",
      "\n"
     ]
    }
   ],
   "source": [
    "for column, values in (most_unique.items()):\n",
    "    print(column.ljust(20), \":\", values)\n",
    "    print(new_df[column].head())\n",
    "    print()"
   ]
  },
  {
   "cell_type": "code",
   "execution_count": 20,
   "id": "e930fea6",
   "metadata": {
    "execution": {
     "iopub.execute_input": "2024-11-23T21:48:17.174931Z",
     "iopub.status.busy": "2024-11-23T21:48:17.174553Z",
     "iopub.status.idle": "2024-11-23T21:48:17.300313Z",
     "shell.execute_reply": "2024-11-23T21:48:17.299305Z"
    },
    "papermill": {
     "duration": 0.137841,
     "end_time": "2024-11-23T21:48:17.302787",
     "exception": false,
     "start_time": "2024-11-23T21:48:17.164946",
     "status": "completed"
    },
    "tags": []
   },
   "outputs": [
    {
     "name": "stdout",
     "output_type": "stream",
     "text": [
      "Most frequent top 3:\n",
      "Timestamp\n",
      "2022-06-11 14:28:15    2\n",
      "2022-06-06 12:12:43    2\n",
      "2023-05-30 06:33:58    1\n",
      "Name: count, dtype: int64\n",
      "Timestamp       37968\n",
      "\n",
      "Source IP Address\n",
      "103.216.15.12    1\n",
      "211.71.225.60    1\n",
      "59.165.62.69     1\n",
      "Name: count, dtype: int64\n",
      "Source IP Address 38041\n",
      "\n",
      "Destination IP Address\n",
      "84.9.164.252      1\n",
      "109.112.236.24    1\n",
      "48.157.39.218     1\n",
      "Name: count, dtype: int64\n",
      "Destination IP Address 38055\n",
      "\n",
      "Source Port\n",
      "31656.0    5\n",
      "35304.0    5\n",
      "15669.0    5\n",
      "Name: count, dtype: int64\n",
      "Source Port     28678\n",
      "\n",
      "Destination Port\n",
      "7508.0     6\n",
      "17896.0    5\n",
      "57508.0    5\n",
      "Name: count, dtype: int64\n",
      "Destination Port 28849\n",
      "\n",
      "Payload Data\n",
      "Aperiam quos modi officiis veritatis rem. Omnis nulla dolore perspiciatis.\\nIllo animi mollitia vero voluptates error ad. Quidem maxime eaque optio a. Consectetur quasi veniam et totam culpa ullam.    1\n",
      "Tempora consequuntur aliquam harum adipisci. Nesciunt eligendi sunt rerum et voluptatum expedita. Placeat ipsa blanditiis inventore praesentium minima quo dolorem.                                      1\n",
      "Voluptates beatae error cupiditate hic quae. Deserunt sed ad doloribus.\\nEst est hic. Praesentium autem omnis dolorum perspiciatis. Earum praesentium velit totam sunt ipsa.                             1\n",
      "Name: count, dtype: int64\n",
      "Payload Data    38080\n",
      "\n",
      "User Information\n",
      "Ishaan Chaudhari    6\n",
      "Heer Lad            6\n",
      "Yasmin Ghose        5\n",
      "Name: count, dtype: int64\n",
      "User Information 31146\n",
      "\n",
      "Device Information\n",
      "Mozilla/5.0 (compatible; MSIE 5.0; Windows 98; Trident/4.1)        34\n",
      "Mozilla/5.0 (compatible; MSIE 5.0; Windows NT 5.2; Trident/4.1)    31\n",
      "Mozilla/5.0 (compatible; MSIE 6.0; Windows NT 6.2; Trident/3.0)    30\n",
      "Name: count, dtype: int64\n",
      "Device Information 30602\n",
      "\n",
      "Proxy Information\n",
      "39.123.165.122    2\n",
      "150.9.97.135      1\n",
      "34.217.21.35      1\n",
      "Name: count, dtype: int64\n",
      "Proxy Information 19168\n",
      "\n"
     ]
    }
   ],
   "source": [
    "print(\"Most frequent top 3:\")\n",
    "for column, values in (most_unique.items()):\n",
    "    print(new_df[column].value_counts().head(3))\n",
    "    print(f\"{column.ljust(15)} {values}\")\n",
    "    print()"
   ]
  }
 ],
 "metadata": {
  "kaggle": {
   "accelerator": "none",
   "dataSources": [
    {
     "datasetId": 3859456,
     "sourceId": 9964392,
     "sourceType": "datasetVersion"
    }
   ],
   "dockerImageVersionId": 30786,
   "isGpuEnabled": false,
   "isInternetEnabled": true,
   "language": "python",
   "sourceType": "notebook"
  },
  "kernelspec": {
   "display_name": "Python 3",
   "language": "python",
   "name": "python3"
  },
  "language_info": {
   "codemirror_mode": {
    "name": "ipython",
    "version": 3
   },
   "file_extension": ".py",
   "mimetype": "text/x-python",
   "name": "python",
   "nbconvert_exporter": "python",
   "pygments_lexer": "ipython3",
   "version": "3.10.14"
  },
  "papermill": {
   "default_parameters": {},
   "duration": 9.511312,
   "end_time": "2024-11-23T21:48:17.933616",
   "environment_variables": {},
   "exception": null,
   "input_path": "__notebook__.ipynb",
   "output_path": "__notebook__.ipynb",
   "parameters": {},
   "start_time": "2024-11-23T21:48:08.422304",
   "version": "2.6.0"
  }
 },
 "nbformat": 4,
 "nbformat_minor": 5
}
